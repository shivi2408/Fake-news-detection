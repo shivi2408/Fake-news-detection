{
  "cells": [
    {
      "cell_type": "code",
      "execution_count": null,
      "metadata": {
        "colab": {
          "base_uri": "https://localhost:8080/"
        },
        "id": "8-w7HJv5JKBG",
        "outputId": "c76fbc16-6dc9-4e18-8443-d7b2b66b9cde"
      },
      "outputs": [
        {
          "output_type": "stream",
          "name": "stdout",
          "text": [
            "Mounted at /content/drive\n"
          ]
        }
      ],
      "source": [
        "from google.colab import drive\n",
        "drive.mount('/content/drive')"
      ]
    },
    {
      "cell_type": "code",
      "execution_count": null,
      "metadata": {
        "id": "3X89h5m3JfJm"
      },
      "outputs": [],
      "source": [
        "#Importing Libraries\n",
        "import numpy as np\n",
        "import pandas as pd\n",
        "import re\n",
        "from nltk.corpus import stopwords\n",
        "from nltk.stem.porter import PorterStemmer\n",
        "from sklearn.feature_extraction.text import TfidfVectorizer\n",
        "from sklearn.model_selection import train_test_split\n",
        "from sklearn.linear_model import LogisticRegression\n",
        "from sklearn.metrics import accuracy_score\n",
        "from sklearn.svm import SVC\n",
        "from sklearn.naive_bayes import MultinomialNB\n",
        "from sklearn.metrics import accuracy_score,f1_score, confusion_matrix,classification_report\n",
        "from sklearn.metrics import confusion_matrix\n",
        "from sklearn.metrics import classification_report"
      ]
    },
    {
      "cell_type": "code",
      "execution_count": null,
      "metadata": {
        "id": "cB6q4-Xnr06O"
      },
      "outputs": [],
      "source": [
        "#Extra Purpose\n",
        "import matplotlib.pyplot as plt # data visualization\n",
        "import seaborn as sns # statistical data visualization\n",
        "%matplotlib inline\n",
        "import warnings\n",
        "\n",
        "warnings.filterwarnings('ignore')"
      ]
    },
    {
      "cell_type": "code",
      "execution_count": null,
      "metadata": {
        "colab": {
          "base_uri": "https://localhost:8080/"
        },
        "id": "q7zkzxjdJjtr",
        "outputId": "06a1c753-12ce-4e21-bb76-8be0b3e39dff"
      },
      "outputs": [
        {
          "output_type": "stream",
          "name": "stdout",
          "text": [
            "[nltk_data] Downloading package stopwords to /root/nltk_data...\n",
            "[nltk_data]   Unzipping corpora/stopwords.zip.\n"
          ]
        },
        {
          "output_type": "execute_result",
          "data": {
            "text/plain": [
              "True"
            ]
          },
          "metadata": {},
          "execution_count": 4
        }
      ],
      "source": [
        "import nltk\n",
        "nltk.download('stopwords')"
      ]
    },
    {
      "cell_type": "code",
      "execution_count": null,
      "metadata": {
        "colab": {
          "base_uri": "https://localhost:8080/"
        },
        "id": "d-VjG7ZGJn51",
        "outputId": "eba8f386-ab9b-4dd0-d207-882add4b27c3"
      },
      "outputs": [
        {
          "output_type": "stream",
          "name": "stdout",
          "text": [
            "['i', 'me', 'my', 'myself', 'we', 'our', 'ours', 'ourselves', 'you', \"you're\", \"you've\", \"you'll\", \"you'd\", 'your', 'yours', 'yourself', 'yourselves', 'he', 'him', 'his', 'himself', 'she', \"she's\", 'her', 'hers', 'herself', 'it', \"it's\", 'its', 'itself', 'they', 'them', 'their', 'theirs', 'themselves', 'what', 'which', 'who', 'whom', 'this', 'that', \"that'll\", 'these', 'those', 'am', 'is', 'are', 'was', 'were', 'be', 'been', 'being', 'have', 'has', 'had', 'having', 'do', 'does', 'did', 'doing', 'a', 'an', 'the', 'and', 'but', 'if', 'or', 'because', 'as', 'until', 'while', 'of', 'at', 'by', 'for', 'with', 'about', 'against', 'between', 'into', 'through', 'during', 'before', 'after', 'above', 'below', 'to', 'from', 'up', 'down', 'in', 'out', 'on', 'off', 'over', 'under', 'again', 'further', 'then', 'once', 'here', 'there', 'when', 'where', 'why', 'how', 'all', 'any', 'both', 'each', 'few', 'more', 'most', 'other', 'some', 'such', 'no', 'nor', 'not', 'only', 'own', 'same', 'so', 'than', 'too', 'very', 's', 't', 'can', 'will', 'just', 'don', \"don't\", 'should', \"should've\", 'now', 'd', 'll', 'm', 'o', 're', 've', 'y', 'ain', 'aren', \"aren't\", 'couldn', \"couldn't\", 'didn', \"didn't\", 'doesn', \"doesn't\", 'hadn', \"hadn't\", 'hasn', \"hasn't\", 'haven', \"haven't\", 'isn', \"isn't\", 'ma', 'mightn', \"mightn't\", 'mustn', \"mustn't\", 'needn', \"needn't\", 'shan', \"shan't\", 'shouldn', \"shouldn't\", 'wasn', \"wasn't\", 'weren', \"weren't\", 'won', \"won't\", 'wouldn', \"wouldn't\"]\n"
          ]
        }
      ],
      "source": [
        "# printing the stopwords in English\n",
        "print(stopwords.words('english'))"
      ]
    },
    {
      "cell_type": "code",
      "execution_count": null,
      "metadata": {
        "id": "yDtLXw4XJrRJ"
      },
      "outputs": [],
      "source": [
        "# loading the dataset to a pandas DataFrame\n",
        "news_dataset = pd.read_csv('/content/drive/MyDrive/WELFake_Dataset.csv')"
      ]
    },
    {
      "cell_type": "code",
      "execution_count": null,
      "metadata": {
        "colab": {
          "base_uri": "https://localhost:8080/"
        },
        "id": "CoVNBkh7J7ry",
        "outputId": "3e6026e3-7219-463e-fb2e-d38cff5d98f1"
      },
      "outputs": [
        {
          "data": {
            "text/plain": [
              "(72134, 4)"
            ]
          },
          "execution_count": 9,
          "metadata": {},
          "output_type": "execute_result"
        }
      ],
      "source": [
        "news_dataset.shape"
      ]
    },
    {
      "cell_type": "code",
      "execution_count": null,
      "metadata": {
        "colab": {
          "base_uri": "https://localhost:8080/",
          "height": 250
        },
        "id": "FCh14D8vJ8jM",
        "outputId": "2c7cd2e2-a5ff-4010-be41-451ed1979306"
      },
      "outputs": [
        {
          "data": {
            "text/html": [
              "\n",
              "  <div id=\"df-63b73d46-da28-408a-9687-6dbbf2607771\">\n",
              "    <div class=\"colab-df-container\">\n",
              "      <div>\n",
              "<style scoped>\n",
              "    .dataframe tbody tr th:only-of-type {\n",
              "        vertical-align: middle;\n",
              "    }\n",
              "\n",
              "    .dataframe tbody tr th {\n",
              "        vertical-align: top;\n",
              "    }\n",
              "\n",
              "    .dataframe thead th {\n",
              "        text-align: right;\n",
              "    }\n",
              "</style>\n",
              "<table border=\"1\" class=\"dataframe\">\n",
              "  <thead>\n",
              "    <tr style=\"text-align: right;\">\n",
              "      <th></th>\n",
              "      <th>Unnamed: 0</th>\n",
              "      <th>title</th>\n",
              "      <th>text</th>\n",
              "      <th>label</th>\n",
              "    </tr>\n",
              "  </thead>\n",
              "  <tbody>\n",
              "    <tr>\n",
              "      <th>0</th>\n",
              "      <td>0</td>\n",
              "      <td>LAW ENFORCEMENT ON HIGH ALERT Following Threat...</td>\n",
              "      <td>No comment is expected from Barack Obama Membe...</td>\n",
              "      <td>1</td>\n",
              "    </tr>\n",
              "    <tr>\n",
              "      <th>1</th>\n",
              "      <td>1</td>\n",
              "      <td>NaN</td>\n",
              "      <td>Did they post their votes for Hillary already?</td>\n",
              "      <td>1</td>\n",
              "    </tr>\n",
              "    <tr>\n",
              "      <th>2</th>\n",
              "      <td>2</td>\n",
              "      <td>UNBELIEVABLE! OBAMA’S ATTORNEY GENERAL SAYS MO...</td>\n",
              "      <td>Now, most of the demonstrators gathered last ...</td>\n",
              "      <td>1</td>\n",
              "    </tr>\n",
              "    <tr>\n",
              "      <th>3</th>\n",
              "      <td>3</td>\n",
              "      <td>Bobby Jindal, raised Hindu, uses story of Chri...</td>\n",
              "      <td>A dozen politically active pastors came here f...</td>\n",
              "      <td>0</td>\n",
              "    </tr>\n",
              "    <tr>\n",
              "      <th>4</th>\n",
              "      <td>4</td>\n",
              "      <td>SATAN 2: Russia unvelis an image of its terrif...</td>\n",
              "      <td>The RS-28 Sarmat missile, dubbed Satan 2, will...</td>\n",
              "      <td>1</td>\n",
              "    </tr>\n",
              "  </tbody>\n",
              "</table>\n",
              "</div>\n",
              "      <button class=\"colab-df-convert\" onclick=\"convertToInteractive('df-63b73d46-da28-408a-9687-6dbbf2607771')\"\n",
              "              title=\"Convert this dataframe to an interactive table.\"\n",
              "              style=\"display:none;\">\n",
              "        \n",
              "  <svg xmlns=\"http://www.w3.org/2000/svg\" height=\"24px\"viewBox=\"0 0 24 24\"\n",
              "       width=\"24px\">\n",
              "    <path d=\"M0 0h24v24H0V0z\" fill=\"none\"/>\n",
              "    <path d=\"M18.56 5.44l.94 2.06.94-2.06 2.06-.94-2.06-.94-.94-2.06-.94 2.06-2.06.94zm-11 1L8.5 8.5l.94-2.06 2.06-.94-2.06-.94L8.5 2.5l-.94 2.06-2.06.94zm10 10l.94 2.06.94-2.06 2.06-.94-2.06-.94-.94-2.06-.94 2.06-2.06.94z\"/><path d=\"M17.41 7.96l-1.37-1.37c-.4-.4-.92-.59-1.43-.59-.52 0-1.04.2-1.43.59L10.3 9.45l-7.72 7.72c-.78.78-.78 2.05 0 2.83L4 21.41c.39.39.9.59 1.41.59.51 0 1.02-.2 1.41-.59l7.78-7.78 2.81-2.81c.8-.78.8-2.07 0-2.86zM5.41 20L4 18.59l7.72-7.72 1.47 1.35L5.41 20z\"/>\n",
              "  </svg>\n",
              "      </button>\n",
              "      \n",
              "  <style>\n",
              "    .colab-df-container {\n",
              "      display:flex;\n",
              "      flex-wrap:wrap;\n",
              "      gap: 12px;\n",
              "    }\n",
              "\n",
              "    .colab-df-convert {\n",
              "      background-color: #E8F0FE;\n",
              "      border: none;\n",
              "      border-radius: 50%;\n",
              "      cursor: pointer;\n",
              "      display: none;\n",
              "      fill: #1967D2;\n",
              "      height: 32px;\n",
              "      padding: 0 0 0 0;\n",
              "      width: 32px;\n",
              "    }\n",
              "\n",
              "    .colab-df-convert:hover {\n",
              "      background-color: #E2EBFA;\n",
              "      box-shadow: 0px 1px 2px rgba(60, 64, 67, 0.3), 0px 1px 3px 1px rgba(60, 64, 67, 0.15);\n",
              "      fill: #174EA6;\n",
              "    }\n",
              "\n",
              "    [theme=dark] .colab-df-convert {\n",
              "      background-color: #3B4455;\n",
              "      fill: #D2E3FC;\n",
              "    }\n",
              "\n",
              "    [theme=dark] .colab-df-convert:hover {\n",
              "      background-color: #434B5C;\n",
              "      box-shadow: 0px 1px 3px 1px rgba(0, 0, 0, 0.15);\n",
              "      filter: drop-shadow(0px 1px 2px rgba(0, 0, 0, 0.3));\n",
              "      fill: #FFFFFF;\n",
              "    }\n",
              "  </style>\n",
              "\n",
              "      <script>\n",
              "        const buttonEl =\n",
              "          document.querySelector('#df-63b73d46-da28-408a-9687-6dbbf2607771 button.colab-df-convert');\n",
              "        buttonEl.style.display =\n",
              "          google.colab.kernel.accessAllowed ? 'block' : 'none';\n",
              "\n",
              "        async function convertToInteractive(key) {\n",
              "          const element = document.querySelector('#df-63b73d46-da28-408a-9687-6dbbf2607771');\n",
              "          const dataTable =\n",
              "            await google.colab.kernel.invokeFunction('convertToInteractive',\n",
              "                                                     [key], {});\n",
              "          if (!dataTable) return;\n",
              "\n",
              "          const docLinkHtml = 'Like what you see? Visit the ' +\n",
              "            '<a target=\"_blank\" href=https://colab.research.google.com/notebooks/data_table.ipynb>data table notebook</a>'\n",
              "            + ' to learn more about interactive tables.';\n",
              "          element.innerHTML = '';\n",
              "          dataTable['output_type'] = 'display_data';\n",
              "          await google.colab.output.renderOutput(dataTable, element);\n",
              "          const docLink = document.createElement('div');\n",
              "          docLink.innerHTML = docLinkHtml;\n",
              "          element.appendChild(docLink);\n",
              "        }\n",
              "      </script>\n",
              "    </div>\n",
              "  </div>\n",
              "  "
            ],
            "text/plain": [
              "   Unnamed: 0                                              title  \\\n",
              "0           0  LAW ENFORCEMENT ON HIGH ALERT Following Threat...   \n",
              "1           1                                                NaN   \n",
              "2           2  UNBELIEVABLE! OBAMA’S ATTORNEY GENERAL SAYS MO...   \n",
              "3           3  Bobby Jindal, raised Hindu, uses story of Chri...   \n",
              "4           4  SATAN 2: Russia unvelis an image of its terrif...   \n",
              "\n",
              "                                                text  label  \n",
              "0  No comment is expected from Barack Obama Membe...      1  \n",
              "1     Did they post their votes for Hillary already?      1  \n",
              "2   Now, most of the demonstrators gathered last ...      1  \n",
              "3  A dozen politically active pastors came here f...      0  \n",
              "4  The RS-28 Sarmat missile, dubbed Satan 2, will...      1  "
            ]
          },
          "execution_count": 10,
          "metadata": {},
          "output_type": "execute_result"
        }
      ],
      "source": [
        "# print the first 5 rows of the dataframe\n",
        "news_dataset.head()"
      ]
    },
    {
      "cell_type": "code",
      "execution_count": null,
      "metadata": {
        "colab": {
          "base_uri": "https://localhost:8080/"
        },
        "id": "iuZXmTs2J_Wn",
        "outputId": "22048a3e-d943-492f-c330-7e7348e1cd54"
      },
      "outputs": [
        {
          "data": {
            "text/plain": [
              "Unnamed: 0      0\n",
              "title         558\n",
              "text           39\n",
              "label           0\n",
              "dtype: int64"
            ]
          },
          "execution_count": 11,
          "metadata": {},
          "output_type": "execute_result"
        }
      ],
      "source": [
        "# counting the number of missing values in the dataset\n",
        "news_dataset.isnull().sum()"
      ]
    },
    {
      "cell_type": "code",
      "execution_count": null,
      "metadata": {
        "id": "VrPEfAOFKDoU"
      },
      "outputs": [],
      "source": [
        "# replacing the null values with empty string\n",
        "news_dataset = news_dataset.fillna('')"
      ]
    },
    {
      "cell_type": "code",
      "execution_count": null,
      "metadata": {
        "id": "tbQvIMqcKNag"
      },
      "outputs": [],
      "source": [
        "# separating the data & label\n",
        "X = news_dataset.drop(columns='label', axis=1)\n",
        "Y = news_dataset['label']"
      ]
    },
    {
      "cell_type": "code",
      "execution_count": null,
      "metadata": {
        "colab": {
          "base_uri": "https://localhost:8080/"
        },
        "id": "29GA4puvKSJ0",
        "outputId": "248f17ca-6e95-45d3-8aac-91a6f1e431a2"
      },
      "outputs": [
        {
          "name": "stdout",
          "output_type": "stream",
          "text": [
            "       Unnamed: 0                                              title  \\\n",
            "0               0  LAW ENFORCEMENT ON HIGH ALERT Following Threat...   \n",
            "1               1                                                      \n",
            "2               2  UNBELIEVABLE! OBAMA’S ATTORNEY GENERAL SAYS MO...   \n",
            "3               3  Bobby Jindal, raised Hindu, uses story of Chri...   \n",
            "4               4  SATAN 2: Russia unvelis an image of its terrif...   \n",
            "...           ...                                                ...   \n",
            "72129       72129  Russians steal research on Trump in hack of U....   \n",
            "72130       72130   WATCH: Giuliani Demands That Democrats Apolog...   \n",
            "72131       72131  Migrants Refuse To Leave Train At Refugee Camp...   \n",
            "72132       72132  Trump tussle gives unpopular Mexican leader mu...   \n",
            "72133       72133  Goldman Sachs Endorses Hillary Clinton For Pre...   \n",
            "\n",
            "                                                    text  \n",
            "0      No comment is expected from Barack Obama Membe...  \n",
            "1         Did they post their votes for Hillary already?  \n",
            "2       Now, most of the demonstrators gathered last ...  \n",
            "3      A dozen politically active pastors came here f...  \n",
            "4      The RS-28 Sarmat missile, dubbed Satan 2, will...  \n",
            "...                                                  ...  \n",
            "72129  WASHINGTON (Reuters) - Hackers believed to be ...  \n",
            "72130  You know, because in fantasyland Republicans n...  \n",
            "72131  Migrants Refuse To Leave Train At Refugee Camp...  \n",
            "72132  MEXICO CITY (Reuters) - Donald Trump’s combati...  \n",
            "72133  Goldman Sachs Endorses Hillary Clinton For Pre...  \n",
            "\n",
            "[72134 rows x 3 columns]\n",
            "0        1\n",
            "1        1\n",
            "2        1\n",
            "3        0\n",
            "4        1\n",
            "        ..\n",
            "72129    0\n",
            "72130    1\n",
            "72131    0\n",
            "72132    0\n",
            "72133    1\n",
            "Name: label, Length: 72134, dtype: int64\n"
          ]
        }
      ],
      "source": [
        "print(X)\n",
        "print(Y)"
      ]
    },
    {
      "cell_type": "code",
      "execution_count": null,
      "metadata": {
        "id": "68a03I1WKWG4"
      },
      "outputs": [],
      "source": [
        "port_stem = PorterStemmer()"
      ]
    },
    {
      "cell_type": "code",
      "execution_count": null,
      "metadata": {
        "id": "q4ecHLxaKbjh"
      },
      "outputs": [],
      "source": [
        "def stemming(title):\n",
        "    stemmed_title = re.sub('[^a-zA-Z]',' ',title)\n",
        "    stemmed_title = stemmed_title.lower()\n",
        "    stemmed_title = stemmed_title.split()\n",
        "    stemmed_title = [port_stem.stem(word) for word in stemmed_title if not word in stopwords.words('english')]\n",
        "    stemmed_title = ' '.join(stemmed_title)\n",
        "    return stemmed_title"
      ]
    },
    {
      "cell_type": "code",
      "execution_count": null,
      "metadata": {
        "id": "C4rEhNZDKeSm"
      },
      "outputs": [],
      "source": [
        "news_dataset['title'] = news_dataset['title'].apply(stemming)"
      ]
    },
    {
      "cell_type": "code",
      "execution_count": null,
      "metadata": {
        "colab": {
          "base_uri": "https://localhost:8080/"
        },
        "id": "oDQSk48eKhfE",
        "outputId": "d8b4e236-f625-4b30-f9ee-ffafe0424ec0"
      },
      "outputs": [
        {
          "name": "stdout",
          "output_type": "stream",
          "text": [
            "0        law enforc high alert follow threat cop white ...\n",
            "1                                                         \n",
            "2        unbeliev obama attorney gener say charlott rio...\n",
            "3        bobbi jindal rais hindu use stori christian co...\n",
            "4        satan russia unv imag terrifi new supernuk wes...\n",
            "                               ...                        \n",
            "72129    russian steal research trump hack u democrat p...\n",
            "72130    watch giuliani demand democrat apolog trump ra...\n",
            "72131         migrant refus leav train refuge camp hungari\n",
            "72132    trump tussl give unpopular mexican leader much...\n",
            "72133           goldman sach endors hillari clinton presid\n",
            "Name: title, Length: 72134, dtype: object\n"
          ]
        }
      ],
      "source": [
        "print(news_dataset['title'])"
      ]
    },
    {
      "cell_type": "code",
      "execution_count": null,
      "metadata": {
        "id": "L9zQp7b4KkAM"
      },
      "outputs": [],
      "source": [
        "#separating the data and label\n",
        "X = news_dataset['title'].values\n",
        "Y = news_dataset['label'].values"
      ]
    },
    {
      "cell_type": "code",
      "execution_count": null,
      "metadata": {
        "colab": {
          "base_uri": "https://localhost:8080/"
        },
        "id": "3YT0CZNFKnzP",
        "outputId": "2e0cdc13-7f24-4e51-a1c1-563b56dbe413"
      },
      "outputs": [
        {
          "name": "stdout",
          "output_type": "stream",
          "text": [
            "['law enforc high alert follow threat cop white blacklivesmatt fyf terrorist video'\n",
            " ''\n",
            " 'unbeliev obama attorney gener say charlott rioter peac protest home state north carolina video'\n",
            " ... 'migrant refus leav train refuge camp hungari'\n",
            " 'trump tussl give unpopular mexican leader much need shot arm'\n",
            " 'goldman sach endors hillari clinton presid']\n"
          ]
        }
      ],
      "source": [
        "print(X)"
      ]
    },
    {
      "cell_type": "code",
      "execution_count": null,
      "metadata": {
        "colab": {
          "base_uri": "https://localhost:8080/"
        },
        "id": "xSvr9yOUKwWF",
        "outputId": "ad001983-bd6e-4afc-be18-7ed41da1eb87"
      },
      "outputs": [
        {
          "name": "stdout",
          "output_type": "stream",
          "text": [
            "[1 1 1 ... 0 0 1]\n"
          ]
        }
      ],
      "source": [
        "print(Y)"
      ]
    },
    {
      "cell_type": "code",
      "execution_count": null,
      "metadata": {
        "colab": {
          "base_uri": "https://localhost:8080/"
        },
        "id": "4Y_NscFdKxQs",
        "outputId": "9e09cb11-2751-4066-dabf-61e5b5c670e2"
      },
      "outputs": [
        {
          "data": {
            "text/plain": [
              "(72134,)"
            ]
          },
          "execution_count": 22,
          "metadata": {},
          "output_type": "execute_result"
        }
      ],
      "source": [
        "Y.shape"
      ]
    },
    {
      "cell_type": "code",
      "execution_count": null,
      "metadata": {
        "id": "zkcFxJ2iK0Tn"
      },
      "outputs": [],
      "source": [
        "# converting the textual data to numerical data\n",
        "vectorizer = TfidfVectorizer()\n",
        "vectorizer.fit(X)\n",
        "\n",
        "X = vectorizer.transform(X)"
      ]
    },
    {
      "cell_type": "code",
      "execution_count": null,
      "metadata": {
        "colab": {
          "base_uri": "https://localhost:8080/"
        },
        "id": "3BTQ06lKK4yC",
        "outputId": "a2685131-799e-441c-a3ec-87e272c87e0e"
      },
      "outputs": [
        {
          "name": "stdout",
          "output_type": "stream",
          "text": [
            "  (0, 19106)\t0.19134939529376566\n",
            "  (0, 18648)\t0.1297506867782943\n",
            "  (0, 17363)\t0.2542650376115143\n",
            "  (0, 17260)\t0.24871262252022117\n",
            "  (0, 9699)\t0.22829788917209384\n",
            "  (0, 7887)\t0.26746434949988324\n",
            "  (0, 6730)\t0.48553136502134386\n",
            "  (0, 6425)\t0.28932771754845743\n",
            "  (0, 5509)\t0.31820565801047196\n",
            "  (0, 3679)\t0.24871262252022117\n",
            "  (0, 1802)\t0.33473541566384035\n",
            "  (0, 407)\t0.3190180925014663\n",
            "  (2, 18648)\t0.13443733492985524\n",
            "  (2, 18034)\t0.35962437110547785\n",
            "  (2, 16446)\t0.1999703023632961\n",
            "  (2, 15094)\t0.1609967301122813\n",
            "  (2, 14591)\t0.3580030298678158\n",
            "  (2, 13591)\t0.22687620695463123\n",
            "  (2, 12744)\t0.27904818164471595\n",
            "  (2, 12011)\t0.16878852994653004\n",
            "  (2, 11864)\t0.2231406266784195\n",
            "  (2, 8020)\t0.2692285294185893\n",
            "  (2, 6880)\t0.2652283770602196\n",
            "  (2, 2919)\t0.3639616996972358\n",
            "  (2, 2673)\t0.30809679188606154\n",
            "  :\t:\n",
            "  (72130, 1768)\t0.49293214478810593\n",
            "  (72130, 764)\t0.39870380407772993\n",
            "  (72131, 17617)\t0.39738745004026604\n",
            "  (72131, 14186)\t0.3534104623564766\n",
            "  (72131, 14182)\t0.32391500471431983\n",
            "  (72131, 10933)\t0.35527231533143033\n",
            "  (72131, 9752)\t0.3384827653769501\n",
            "  (72131, 8206)\t0.46269177743112333\n",
            "  (72131, 2566)\t0.3967249021272091\n",
            "  (72132, 18264)\t0.417810680338284\n",
            "  (72132, 17906)\t0.4674560433180039\n",
            "  (72132, 17778)\t0.10874560860578947\n",
            "  (72132, 15632)\t0.30543362821165165\n",
            "  (72132, 11617)\t0.2703806807329965\n",
            "  (72132, 11350)\t0.32005174915301016\n",
            "  (72132, 10871)\t0.3272655004229104\n",
            "  (72132, 9731)\t0.24522811865098657\n",
            "  (72132, 7003)\t0.2582870894160619\n",
            "  (72132, 873)\t0.3038308430269035\n",
            "  (72133, 14901)\t0.5564599843232266\n",
            "  (72133, 13427)\t0.29001763267842906\n",
            "  (72133, 7904)\t0.2573590839479994\n",
            "  (72133, 7103)\t0.5410264267527618\n",
            "  (72133, 5498)\t0.4224992179824501\n",
            "  (72133, 3245)\t0.26228453414449976\n"
          ]
        }
      ],
      "source": [
        "print(X)"
      ]
    },
    {
      "cell_type": "code",
      "execution_count": null,
      "metadata": {
        "id": "IbPbfrChK7Uj"
      },
      "outputs": [],
      "source": [
        "X_train, X_test, Y_train, Y_test = train_test_split(X, Y, test_size = 0.2, stratify=Y, random_state=2)"
      ]
    },
    {
      "cell_type": "markdown",
      "metadata": {
        "id": "EJ1P0EK2B00R"
      },
      "source": [
        "##1.Logistic Regression"
      ]
    },
    {
      "cell_type": "code",
      "execution_count": null,
      "metadata": {
        "id": "dEbEz19XK_bM"
      },
      "outputs": [],
      "source": [
        "model = LogisticRegression()"
      ]
    },
    {
      "cell_type": "code",
      "execution_count": null,
      "metadata": {
        "colab": {
          "base_uri": "https://localhost:8080/"
        },
        "id": "qcb7NbilLCC0",
        "outputId": "83767e70-52f6-4239-bc97-1c6def896460"
      },
      "outputs": [
        {
          "data": {
            "text/plain": [
              "LogisticRegression()"
            ]
          },
          "execution_count": 27,
          "metadata": {},
          "output_type": "execute_result"
        }
      ],
      "source": [
        "model.fit(X_train, Y_train)"
      ]
    },
    {
      "cell_type": "code",
      "execution_count": null,
      "metadata": {
        "colab": {
          "base_uri": "https://localhost:8080/"
        },
        "id": "7rzwwg1HcoVk",
        "outputId": "5d6c89db-a969-480d-9b13-75eea80d0350"
      },
      "outputs": [
        {
          "name": "stdout",
          "output_type": "stream",
          "text": [
            "Accuracy of Logistic Regression Classifier: 90.06%\n"
          ]
        }
      ],
      "source": [
        "# Accuracy Score Using Logistic Regression\n",
        "model = model.fit(X_train, Y_train)\n",
        "lr_pred = model.predict(X_test)\n",
        "\n",
        "print(\"Accuracy of Logistic Regression Classifier: {}%\".format(round(accuracy_score(Y_test, lr_pred)*100,2)))"
      ]
    },
    {
      "cell_type": "code",
      "execution_count": null,
      "metadata": {
        "id": "vU8e7V4NLEZ3"
      },
      "outputs": [],
      "source": [
        "# Accuracy score on the Training data\n",
        "X_train_prediction = model.predict(X_train)\n",
        "training_data_accuracy = accuracy_score(X_train_prediction, Y_train)"
      ]
    },
    {
      "cell_type": "code",
      "execution_count": null,
      "metadata": {
        "colab": {
          "base_uri": "https://localhost:8080/"
        },
        "id": "Jn0LN1sdVyoE",
        "outputId": "50c0897b-14b7-442a-bab9-4b6c22239f28"
      },
      "outputs": [
        {
          "name": "stdout",
          "output_type": "stream",
          "text": [
            "Accuracy score of the training data :  0.9199403885143916\n"
          ]
        }
      ],
      "source": [
        "print('Accuracy score of the training data : ', training_data_accuracy)"
      ]
    },
    {
      "cell_type": "code",
      "execution_count": null,
      "metadata": {
        "id": "McM-v-NXLIEB"
      },
      "outputs": [],
      "source": [
        "# Accuracy score on the Test data\n",
        "X_test_prediction = model.predict(X_test)\n",
        "test_data_accuracy = accuracy_score(X_test_prediction, Y_test)"
      ]
    },
    {
      "cell_type": "code",
      "execution_count": null,
      "metadata": {
        "colab": {
          "base_uri": "https://localhost:8080/"
        },
        "id": "A0U4hIHVV3P4",
        "outputId": "45e9b692-131b-445c-a595-2cc9c4265a90"
      },
      "outputs": [
        {
          "name": "stdout",
          "output_type": "stream",
          "text": [
            "Accuracy score of the test data :  0.900603035974215\n"
          ]
        }
      ],
      "source": [
        "print('Accuracy score of the test data : ', test_data_accuracy)"
      ]
    },
    {
      "cell_type": "code",
      "execution_count": null,
      "metadata": {
        "id": "jjsLe3YGtJi8"
      },
      "outputs": [],
      "source": [
        "#The training-set accuracy score is 0.92\n",
        "#while the test-set accuracy to be 0.90. \n",
        "#These two values are quite comparable. So, there is no question of overfitting."
      ]
    },
    {
      "cell_type": "code",
      "execution_count": null,
      "metadata": {
        "id": "JBMM5_POSCMd"
      },
      "outputs": [],
      "source": [
        "\n",
        "null_accuracy = (/(+))\n",
        "\n",
        "print('Null accuracy score: {0:0.4f}'. format(null_accuracy))"
      ]
    },
    {
      "cell_type": "code",
      "execution_count": null,
      "metadata": {
        "colab": {
          "base_uri": "https://localhost:8080/"
        },
        "id": "FIYa6LEJTGq0",
        "outputId": "6fc11f25-704b-4516-bbe1-8bec23bf8998"
      },
      "outputs": [
        {
          "name": "stdout",
          "output_type": "stream",
          "text": [
            "Confusion matrix\n",
            "\n",
            " [[6216  790]\n",
            " [ 644 6777]]\n",
            "\n",
            "True Positives(TP) =  6216\n",
            "\n",
            "True Negatives(TN) =  6777\n",
            "\n",
            "False Positives(FP) =  790\n",
            "\n",
            "False Negatives(FN) =  644\n"
          ]
        }
      ],
      "source": [
        "# Print the Confusion Matrix and slice it into four pieces\n",
        "\n",
        "cm = confusion_matrix(Y_test, lr_pred)\n",
        "\n",
        "print('Confusion matrix\\n\\n', cm)\n",
        "\n",
        "print('\\nTrue Positives(TP) = ', cm[0,0])\n",
        "\n",
        "print('\\nTrue Negatives(TN) = ', cm[1,1])\n",
        "\n",
        "print('\\nFalse Positives(FP) = ', cm[0,1])\n",
        "\n",
        "print('\\nFalse Negatives(FN) = ', cm[1,0])"
      ]
    },
    {
      "cell_type": "code",
      "execution_count": null,
      "metadata": {
        "id": "Jidracg6wccs"
      },
      "outputs": [],
      "source": [
        "#The confusion matrix shows 6216 + 6777 = 12993 correct predictions and 644 + 790 = 1434 incorrect predictions."
      ]
    },
    {
      "cell_type": "code",
      "execution_count": null,
      "metadata": {
        "colab": {
          "base_uri": "https://localhost:8080/",
          "height": 282
        },
        "id": "UT-jy4I4Th9o",
        "outputId": "2fb72857-389f-4599-86e9-317e5d49d6a0"
      },
      "outputs": [
        {
          "data": {
            "text/plain": [
              "<matplotlib.axes._subplots.AxesSubplot at 0x7fcb84765750>"
            ]
          },
          "execution_count": 38,
          "metadata": {},
          "output_type": "execute_result"
        },
        {
          "data": {
            "image/png": "[encoded data removed]",
            "text/plain": [
              "<Figure size 432x288 with 2 Axes>"
            ]
          },
          "metadata": {},
          "output_type": "display_data"
        }
      ],
      "source": [
        "# visualize confusion matrix with seaborn heatmap\n",
        "\n",
        "cm_matrix = pd.DataFrame(data=cm, columns=['Actual Positive:1', 'Actual Negative:0'], \n",
        "                                 index=['Predict Positive:1', 'Predict Negative:0'])\n",
        "\n",
        "sns.heatmap(cm_matrix, annot=True, fmt='d', cmap='YlGnBu')"
      ]
    },
    {
      "cell_type": "code",
      "execution_count": null,
      "metadata": {
        "id": "T8AeMXuUw_5e"
      },
      "outputs": [],
      "source": [
        "#Classification Report\n",
        "#It displays the precision, recall, f1 and support scores for the model."
      ]
    },
    {
      "cell_type": "code",
      "execution_count": null,
      "metadata": {
        "colab": {
          "base_uri": "https://localhost:8080/"
        },
        "id": "tmAl_DFlToQQ",
        "outputId": "986eada1-5d02-4844-a7bf-50f69b4d9b29"
      },
      "outputs": [
        {
          "name": "stdout",
          "output_type": "stream",
          "text": [
            "              precision    recall  f1-score   support\n",
            "\n",
            "           0       0.91      0.89      0.90      7006\n",
            "           1       0.90      0.91      0.90      7421\n",
            "\n",
            "    accuracy                           0.90     14427\n",
            "   macro avg       0.90      0.90      0.90     14427\n",
            "weighted avg       0.90      0.90      0.90     14427\n",
            "\n"
          ]
        }
      ],
      "source": [
        "print(classification_report(Y_test, lr_pred))"
      ]
    },
    {
      "cell_type": "code",
      "execution_count": null,
      "metadata": {
        "id": "t8dVg7ZmT45C"
      },
      "outputs": [],
      "source": [
        "#Classification accuracy\n",
        "TP = cm[0,0]\n",
        "TN = cm[1,1]\n",
        "FP = cm[0,1]\n",
        "FN = cm[1,0]"
      ]
    },
    {
      "cell_type": "code",
      "execution_count": null,
      "metadata": {
        "colab": {
          "base_uri": "https://localhost:8080/"
        },
        "id": "fpsX9b-uUAqb",
        "outputId": "28105b6d-e379-4f22-e2df-15d45b2198ac"
      },
      "outputs": [
        {
          "name": "stdout",
          "output_type": "stream",
          "text": [
            "Classification accuracy : 0.9006\n"
          ]
        }
      ],
      "source": [
        "# print classification accuracy\n",
        "\n",
        "classification_accuracy = (TP + TN) / float(TP + TN + FP + FN)\n",
        "\n",
        "print('Classification accuracy : {0:0.4f}'.format(classification_accuracy))"
      ]
    },
    {
      "cell_type": "code",
      "execution_count": null,
      "metadata": {
        "colab": {
          "base_uri": "https://localhost:8080/"
        },
        "id": "s21Exm5EUDe1",
        "outputId": "caff41d5-9663-4564-ab69-d39d5390aab3"
      },
      "outputs": [
        {
          "name": "stdout",
          "output_type": "stream",
          "text": [
            "Classification error : 0.0994\n"
          ]
        }
      ],
      "source": [
        "# print classification error\n",
        "\n",
        "classification_error = (FP + FN) / float(TP + TN + FP + FN)\n",
        "\n",
        "print('Classification error : {0:0.4f}'.format(classification_error))"
      ]
    },
    {
      "cell_type": "code",
      "execution_count": null,
      "metadata": {
        "id": "-P1rYQKcxg_O"
      },
      "outputs": [],
      "source": [
        "#Precision\n",
        "#Precision identifies the proportion of correctly predicted positive outcome. It is more concerned with the positive class than the negative class."
      ]
    },
    {
      "cell_type": "code",
      "execution_count": null,
      "metadata": {
        "colab": {
          "base_uri": "https://localhost:8080/"
        },
        "id": "70j0moTeUHGU",
        "outputId": "3c7f9576-9495-4d81-e512-5f916e815bf6"
      },
      "outputs": [
        {
          "name": "stdout",
          "output_type": "stream",
          "text": [
            "Precision : 0.8872\n"
          ]
        }
      ],
      "source": [
        "# print precision score\n",
        "\n",
        "precision = TP / float(TP + FP)\n",
        "\n",
        "\n",
        "print('Precision : {0:0.4f}'.format(precision))"
      ]
    },
    {
      "cell_type": "code",
      "execution_count": null,
      "metadata": {
        "id": "eZNWjB-MxrMx"
      },
      "outputs": [],
      "source": [
        "#Recall\n",
        "#Recall can be defined as the percentage of correctly predicted positive outcomes out of all the actual positive outcomes. \n",
        "#It can be given as the ratio of true positives (TP) to the sum of true positives and false negatives (TP + FN). Recall is also called Sensitivity."
      ]
    },
    {
      "cell_type": "code",
      "execution_count": null,
      "metadata": {
        "colab": {
          "base_uri": "https://localhost:8080/"
        },
        "id": "jjvsLeBJUJ2N",
        "outputId": "04228436-9ba2-44ce-82ec-c9d0196771ad"
      },
      "outputs": [
        {
          "name": "stdout",
          "output_type": "stream",
          "text": [
            "Recall or Sensitivity : 0.9061\n"
          ]
        }
      ],
      "source": [
        "recall = TP / float(TP + FN)\n",
        "\n",
        "print('Recall or Sensitivity : {0:0.4f}'.format(recall))"
      ]
    },
    {
      "cell_type": "code",
      "execution_count": null,
      "metadata": {
        "id": "MJuj4fwFx6rt"
      },
      "outputs": [],
      "source": [
        "#True Positive Rate  (True Positive Rate is synonymous with Recall.)"
      ]
    },
    {
      "cell_type": "code",
      "execution_count": null,
      "metadata": {
        "colab": {
          "base_uri": "https://localhost:8080/"
        },
        "id": "-48QGqXjUMYY",
        "outputId": "02744f40-c890-4c23-d3e4-fe19260ad43a"
      },
      "outputs": [
        {
          "name": "stdout",
          "output_type": "stream",
          "text": [
            "True Positive Rate : 0.9061\n"
          ]
        }
      ],
      "source": [
        "true_positive_rate = TP / float(TP + FN)\n",
        "\n",
        "\n",
        "print('True Positive Rate : {0:0.4f}'.format(true_positive_rate))"
      ]
    },
    {
      "cell_type": "code",
      "execution_count": null,
      "metadata": {
        "id": "iPwTXtfByB2s"
      },
      "outputs": [],
      "source": [
        "#False Positive Rate"
      ]
    },
    {
      "cell_type": "code",
      "execution_count": null,
      "metadata": {
        "colab": {
          "base_uri": "https://localhost:8080/"
        },
        "id": "4D92B4lXUPGX",
        "outputId": "204b5b05-2dc2-471b-b1ac-e7208f35b2ae"
      },
      "outputs": [
        {
          "name": "stdout",
          "output_type": "stream",
          "text": [
            "False Positive Rate : 0.1044\n"
          ]
        }
      ],
      "source": [
        "false_positive_rate = FP / float(FP + TN)\n",
        "\n",
        "\n",
        "print('False Positive Rate : {0:0.4f}'.format(false_positive_rate))"
      ]
    },
    {
      "cell_type": "code",
      "execution_count": null,
      "metadata": {
        "id": "A8My_bhiyHWy"
      },
      "outputs": [],
      "source": [
        "#Specificity"
      ]
    },
    {
      "cell_type": "code",
      "execution_count": null,
      "metadata": {
        "colab": {
          "base_uri": "https://localhost:8080/"
        },
        "id": "2b-rJUhwUSIv",
        "outputId": "ad1b09ff-c8ef-4f76-8477-7473b093085b"
      },
      "outputs": [
        {
          "name": "stdout",
          "output_type": "stream",
          "text": [
            "Specificity : 0.8956\n"
          ]
        }
      ],
      "source": [
        "specificity = TN / (TN + FP)\n",
        "\n",
        "print('Specificity : {0:0.4f}'.format(specificity))"
      ]
    },
    {
      "cell_type": "code",
      "execution_count": null,
      "metadata": {
        "id": "iwO6bmq30R4d"
      },
      "outputs": [],
      "source": [
        "#Receiver Operating Characteristic (ROC) Curves\n",
        "#The ROC Curve plots the True Positive Rate (TPR) against the False Positive Rate (FPR) at various threshold levels.\n",
        "\n",
        "#True Positive Rate (TPR) is also called Recall. It is defined as the ratio of TP to (TP + FN).\n",
        "\n",
        "#False Positive Rate (FPR) is defined as the ratio of FP to (FP + TN)."
      ]
    },
    {
      "cell_type": "code",
      "execution_count": null,
      "metadata": {
        "colab": {
          "base_uri": "https://localhost:8080/",
          "height": 296
        },
        "id": "5IdA0sH30hUB",
        "outputId": "0daad2eb-2d56-45ac-9b12-fa4efa7c185b"
      },
      "outputs": [
        {
          "data": {
            "image/png": "[encoded data removed]",
            "text/plain": [
              "<Figure size 432x288 with 1 Axes>"
            ]
          },
          "metadata": {},
          "output_type": "display_data"
        }
      ],
      "source": [
        "# plot ROC Curve\n",
        "\n",
        "from sklearn.metrics import roc_curve\n",
        "Y_pred1 = model.predict_proba(X_test)[:, 1]\n",
        "\n",
        "fpr, tpr, thresholds = roc_curve(Y_test, Y_pred1)\n",
        "\n",
        "plt.figure(figsize=(6,4))\n",
        "\n",
        "plt.plot(fpr, tpr, linewidth=2)\n",
        "\n",
        "plt.plot([0,1], [0,1], 'k--' )\n",
        "\n",
        "plt.rcParams['font.size'] = 12\n",
        "\n",
        "plt.title('ROC curve ')\n",
        "\n",
        "plt.xlabel('False Positive Rate (1 - Specificity)')\n",
        "\n",
        "plt.ylabel('True Positive Rate (Sensitivity)')\n",
        "\n",
        "plt.show()"
      ]
    },
    {
      "cell_type": "code",
      "execution_count": null,
      "metadata": {
        "id": "2QNK1Bm97vL0"
      },
      "outputs": [],
      "source": [
        "#ROC-AUC (ROC AUC is the percentage of the ROC plot that is underneath the curve)"
      ]
    },
    {
      "cell_type": "code",
      "execution_count": null,
      "metadata": {
        "colab": {
          "base_uri": "https://localhost:8080/"
        },
        "id": "1D95GI-C70St",
        "outputId": "2e84c369-01cd-46e4-af69-0b1dcdc959b3"
      },
      "outputs": [
        {
          "name": "stdout",
          "output_type": "stream",
          "text": [
            "ROC AUC : 0.9599\n"
          ]
        }
      ],
      "source": [
        "# compute ROC AUC\n",
        "\n",
        "from sklearn.metrics import roc_auc_score\n",
        "y_pred1 = model.predict_proba(X_test)[:, 1]\n",
        "ROC_AUC = roc_auc_score(Y_test, y_pred1)\n",
        "\n",
        "print('ROC AUC : {:.4f}'.format(ROC_AUC))"
      ]
    },
    {
      "cell_type": "code",
      "execution_count": null,
      "metadata": {
        "colab": {
          "base_uri": "https://localhost:8080/"
        },
        "id": "8tiVnXIX8HTS",
        "outputId": "59002a66-868d-4d96-e13a-534764076e0e"
      },
      "outputs": [
        {
          "name": "stdout",
          "output_type": "stream",
          "text": [
            "Cross validated ROC AUC : 0.9571\n"
          ]
        }
      ],
      "source": [
        "# calculate cross-validated ROC AUC \n",
        "\n",
        "from sklearn.model_selection import cross_val_score\n",
        "Cross_validated_ROC_AUC = cross_val_score(model, X_train, Y_train, cv=5, scoring='roc_auc').mean()\n",
        "print('Cross validated ROC AUC : {:.4f}'.format(Cross_validated_ROC_AUC))"
      ]
    },
    {
      "cell_type": "code",
      "execution_count": null,
      "metadata": {
        "id": "lXzjDIFt8SWY"
      },
      "outputs": [],
      "source": [
        "#k-Fold Cross Validation"
      ]
    },
    {
      "cell_type": "code",
      "execution_count": null,
      "metadata": {
        "colab": {
          "base_uri": "https://localhost:8080/"
        },
        "id": "v7co7dbx8XTL",
        "outputId": "c9df4246-1bdc-465a-c183-abd16650e191"
      },
      "outputs": [
        {
          "name": "stdout",
          "output_type": "stream",
          "text": [
            "Cross-validation scores:[0.892393   0.8954254  0.8913439  0.90139503 0.89749588]\n"
          ]
        }
      ],
      "source": [
        "# Applying 5-Fold Cross Validation\n",
        "\n",
        "from sklearn.model_selection import cross_val_score\n",
        "scores = cross_val_score(model, X_train, Y_train, cv = 5, scoring='accuracy')\n",
        "print('Cross-validation scores:{}'.format(scores))"
      ]
    },
    {
      "cell_type": "code",
      "execution_count": null,
      "metadata": {
        "colab": {
          "base_uri": "https://localhost:8080/"
        },
        "id": "R-PKXQgi8llC",
        "outputId": "edba0635-c36e-459b-ab5a-6f10d0b038b8"
      },
      "outputs": [
        {
          "name": "stdout",
          "output_type": "stream",
          "text": [
            "Average cross-validation score: 0.8956\n"
          ]
        }
      ],
      "source": [
        "# compute Average cross-validation score\n",
        "print('Average cross-validation score: {:.4f}'.format(scores.mean()))"
      ]
    },
    {
      "cell_type": "code",
      "execution_count": null,
      "metadata": {
        "id": "cYwNmfPr8uo3"
      },
      "outputs": [],
      "source": [
        "#Our, original model score is found to be 0.0.9199. \n",
        "#The average cross-validation score is 0.8956. \n",
        "#So, we can conclude that cross-validation does not result in performance improvement."
      ]
    },
    {
      "cell_type": "markdown",
      "metadata": {
        "id": "8cHaxBzhXBfk"
      },
      "source": [
        "##2.Support Vector Machines Classifier"
      ]
    },
    {
      "cell_type": "code",
      "execution_count": null,
      "metadata": {
        "id": "D-z3YWpgNZOw"
      },
      "outputs": [],
      "source": [
        "#Support Vector classification"
      ]
    },
    {
      "cell_type": "code",
      "execution_count": null,
      "metadata": {
        "id": "4jFOk81WYfU5"
      },
      "outputs": [],
      "source": [
        "# instantiate classifier \n",
        "svc=SVC()"
      ]
    },
    {
      "cell_type": "code",
      "execution_count": null,
      "metadata": {
        "colab": {
          "base_uri": "https://localhost:8080/"
        },
        "id": "u1XugUhWYhP0",
        "outputId": "2ff5f29e-4d90-48f3-ac91-2c32bffdeace"
      },
      "outputs": [
        {
          "data": {
            "text/plain": [
              "SVC()"
            ]
          },
          "execution_count": 114,
          "metadata": {},
          "output_type": "execute_result"
        }
      ],
      "source": [
        "# fit classifier to training set\n",
        "svc.fit(X_train,Y_train)"
      ]
    },
    {
      "cell_type": "code",
      "execution_count": null,
      "metadata": {
        "id": "MLK9gQrVaB-C"
      },
      "outputs": [],
      "source": [
        "# make predictions on test set\n",
        "Y_pred=svc.predict(X_test)"
      ]
    },
    {
      "cell_type": "code",
      "execution_count": null,
      "metadata": {
        "colab": {
          "base_uri": "https://localhost:8080/"
        },
        "id": "W5wfBqkaYx2X",
        "outputId": "274aa219-daa2-4a3e-c0b0-ddf9b3be7595"
      },
      "outputs": [
        {
          "name": "stdout",
          "output_type": "stream",
          "text": [
            "Model accuracy score : 91.6892\n"
          ]
        }
      ],
      "source": [
        "# compute and print accuracy score\n",
        "print('Model accuracy score : {0:0.4f}'. format(accuracy_score(Y_test, Y_pred)*100))"
      ]
    },
    {
      "cell_type": "code",
      "execution_count": null,
      "metadata": {
        "colab": {
          "base_uri": "https://localhost:8080/"
        },
        "id": "VT08V4PVPl2h",
        "outputId": "bebcbc85-61f8-4d40-a450-b4d2e4ea1c4b"
      },
      "outputs": [
        {
          "name": "stdout",
          "output_type": "stream",
          "text": [
            "Accuracy of SVM : 91.69%\n"
          ]
        }
      ],
      "source": [
        "# compute and print accuracy score in %\n",
        "print(\"Accuracy of SVM : {}%\".format(round(accuracy_score(Y_test, Y_pred)*100,2)))"
      ]
    },
    {
      "cell_type": "code",
      "execution_count": null,
      "metadata": {
        "id": "3Iue-e71RIBw"
      },
      "outputs": [],
      "source": [
        "#Here, Y_test are the true class labels and Y_pred are the predicted class labels in the test-set."
      ]
    },
    {
      "cell_type": "code",
      "execution_count": null,
      "metadata": {
        "id": "eLBUVx45Rfnv"
      },
      "outputs": [],
      "source": [
        "#Compare the train-set and test-set accuracy"
      ]
    },
    {
      "cell_type": "code",
      "execution_count": null,
      "metadata": {
        "id": "dFQlyswUb8dT"
      },
      "outputs": [],
      "source": [
        "Y_pred_train = svc.predict(X_train)"
      ]
    },
    {
      "cell_type": "code",
      "execution_count": null,
      "metadata": {
        "colab": {
          "base_uri": "https://localhost:8080/"
        },
        "id": "Q-c6TiV4MxQn",
        "outputId": "6a0db3bd-1005-4ea8-9149-2b4ad504d81e"
      },
      "outputs": [
        {
          "name": "stdout",
          "output_type": "stream",
          "text": [
            "Confusion matrix\n",
            "\n",
            " [[6336  670]\n",
            " [ 529 6892]]\n",
            "\n",
            "True Positives(TP) =  6336\n",
            "\n",
            "True Negatives(TN) =  6892\n",
            "\n",
            "False Positives(FP) =  670\n",
            "\n",
            "False Negatives(FN) =  529\n"
          ]
        }
      ],
      "source": [
        "#Print the Confusion Matrix \n",
        "\n",
        "from sklearn.metrics import confusion_matrix\n",
        "cm = confusion_matrix(Y_test, Y_pred)\n",
        "print('Confusion matrix\\n\\n', cm)\n",
        "\n",
        "print('\\nTrue Positives(TP) = ', cm[0,0])\n",
        "\n",
        "print('\\nTrue Negatives(TN) = ', cm[1,1])\n",
        "\n",
        "print('\\nFalse Positives(FP) = ', cm[0,1])\n",
        "\n",
        "print('\\nFalse Negatives(FN) = ', cm[1,0])"
      ]
    },
    {
      "cell_type": "code",
      "execution_count": null,
      "metadata": {
        "colab": {
          "base_uri": "https://localhost:8080/",
          "height": 285
        },
        "id": "VMl_1HaRawwy",
        "outputId": "db12ce72-8679-4475-bbff-610850ac27ec"
      },
      "outputs": [
        {
          "data": {
            "text/plain": [
              "<matplotlib.axes._subplots.AxesSubplot at 0x7fcb013c3850>"
            ]
          },
          "execution_count": 125,
          "metadata": {},
          "output_type": "execute_result"
        },
        {
          "data": {
            "image/png": "[encoded data removed]",
            "text/plain": [
              "<Figure size 432x288 with 2 Axes>"
            ]
          },
          "metadata": {},
          "output_type": "display_data"
        }
      ],
      "source": [
        "# visualize confusion matrix with seaborn heatmap\n",
        "\n",
        "cm_matrix = pd.DataFrame(data=cm, columns=['Actual Positive:1', 'Actual Negative:0'], \n",
        "                                 index=['Predict Positive:1', 'Predict Negative:0'])\n",
        "\n",
        "sns.heatmap(cm_matrix, annot=True, fmt='d', cmap='YlGnBu')"
      ]
    },
    {
      "cell_type": "code",
      "execution_count": null,
      "metadata": {
        "colab": {
          "base_uri": "https://localhost:8080/"
        },
        "id": "LrkXWnfFa1o4",
        "outputId": "0833307f-da23-4ec5-d531-c157890c3569"
      },
      "outputs": [
        {
          "name": "stdout",
          "output_type": "stream",
          "text": [
            "\n",
            "Classification Report of SVM Classifier:\n",
            "\n",
            "              precision    recall  f1-score   support\n",
            "\n",
            "           0       0.92      0.90      0.91      7006\n",
            "           1       0.91      0.93      0.92      7421\n",
            "\n",
            "    accuracy                           0.92     14427\n",
            "   macro avg       0.92      0.92      0.92     14427\n",
            "weighted avg       0.92      0.92      0.92     14427\n",
            "\n"
          ]
        }
      ],
      "source": [
        "#Classification Report\n",
        "from sklearn.metrics import classification_report\n",
        "print(\"\\nClassification Report of SVM Classifier:\\n\")\n",
        "print(classification_report(Y_test, Y_pred))"
      ]
    },
    {
      "cell_type": "code",
      "execution_count": null,
      "metadata": {
        "id": "kS07Gcp-bMPV"
      },
      "outputs": [],
      "source": [
        "#Classification accuracy\n",
        "TP = cm[0,0]\n",
        "TN = cm[1,1]\n",
        "FP = cm[0,1]\n",
        "FN = cm[1,0]"
      ]
    },
    {
      "cell_type": "code",
      "execution_count": null,
      "metadata": {
        "colab": {
          "base_uri": "https://localhost:8080/"
        },
        "id": "Ej7uRyuTbRTr",
        "outputId": "076b0d3c-efa1-44d0-91a6-98cd8c09fd2e"
      },
      "outputs": [
        {
          "name": "stdout",
          "output_type": "stream",
          "text": [
            "Classification accuracy : 0.9169\n",
            "Classification error : 0.0831\n",
            "Precision : 0.9044\n",
            "Recall or Sensitivity : 0.9229\n",
            "True Positive Rate : 0.9229\n",
            "False Positive Rate : 0.0886\n",
            "Specificity : 0.9114\n"
          ]
        }
      ],
      "source": [
        "# print classification accuracy\n",
        "classification_accuracy = (TP + TN) / float(TP + TN + FP + FN)\n",
        "print('Classification accuracy : {0:0.4f}'.format(classification_accuracy))\n",
        "\n",
        "# print classification error\n",
        "classification_error = (FP + FN) / float(TP + TN + FP + FN)\n",
        "print('Classification error : {0:0.4f}'.format(classification_error))\n",
        "\n",
        "# print precision score\n",
        "precision = TP / float(TP + FP)\n",
        "print('Precision : {0:0.4f}'.format(precision))\n",
        "\n",
        "#Recall\n",
        "recall = TP / float(TP + FN)\n",
        "print('Recall or Sensitivity : {0:0.4f}'.format(recall))\n",
        "\n",
        "true_positive_rate = TP / float(TP + FN)\n",
        "print('True Positive Rate : {0:0.4f}'.format(true_positive_rate))\n",
        "\n",
        "false_positive_rate = FP / float(FP + TN)\n",
        "print('False Positive Rate : {0:0.4f}'.format(false_positive_rate))\n",
        "\n",
        "specificity = TN / (TN + FP)\n",
        "print('Specificity : {0:0.4f}'.format(specificity))"
      ]
    },
    {
      "cell_type": "code",
      "execution_count": null,
      "metadata": {
        "colab": {
          "base_uri": "https://localhost:8080/",
          "height": 302
        },
        "id": "Ef0dBpwVb0fw",
        "outputId": "42f151d6-dc43-4b9e-95d5-eb08a0510ebd"
      },
      "outputs": [
        {
          "data": {
            "image/png": "[encoded data removed]",
            "text/plain": [
              "<Figure size 432x288 with 1 Axes>"
            ]
          },
          "metadata": {},
          "output_type": "display_data"
        }
      ],
      "source": [
        "# plot ROC Curve\n",
        "\n",
        "from sklearn.metrics import roc_curve\n",
        "fpr, tpr, thresholds = roc_curve(Y_test, Y_pred)\n",
        "plt.figure(figsize=(6,4))\n",
        "plt.plot(fpr, tpr, linewidth=2)\n",
        "plt.plot([0,1], [0,1], 'k--' )\n",
        "plt.rcParams['font.size'] = 12\n",
        "plt.title('ROC curve for ')\n",
        "plt.xlabel('False Positive Rate (1 - Specificity)')\n",
        "plt.ylabel('True Positive Rate (Sensitivity)')\n",
        "plt.show()"
      ]
    },
    {
      "cell_type": "code",
      "execution_count": null,
      "metadata": {
        "colab": {
          "base_uri": "https://localhost:8080/"
        },
        "id": "cRy-1XrqcFVJ",
        "outputId": "b71d3ebe-6ebe-47d4-9436-82aa817c24db"
      },
      "outputs": [
        {
          "name": "stdout",
          "output_type": "stream",
          "text": [
            "ROC AUC : 0.9165\n"
          ]
        }
      ],
      "source": [
        "# compute ROC AUC\n",
        "\n",
        "from sklearn.metrics import roc_auc_score\n",
        "ROC_AUC = roc_auc_score(Y_test, Y_pred)\n",
        "print('ROC AUC : {:.4f}'.format(ROC_AUC))"
      ]
    },
    {
      "cell_type": "code",
      "execution_count": null,
      "metadata": {
        "id": "ZU15_jRYgwrQ"
      },
      "outputs": [],
      "source": [
        "#Classification\n",
        "svc_f1 = round(f1_score(Y_test, Y_pred, average='weighted'), 3)\n",
        "svc_accuracy = round((accuracy_score(Y_test, Y_pred)*100), 2)\n",
        "\n",
        "print(\"Accuracy : \" , svc_accuracy , \" %\")\n",
        "print(\"f1_score : \" , svc_f1)"
      ]
    },
    {
      "cell_type": "markdown",
      "metadata": {
        "id": "1bwchDVOXPzs"
      },
      "source": [
        "##3.Naive-Bayes Classification"
      ]
    },
    {
      "cell_type": "code",
      "execution_count": null,
      "metadata": {
        "id": "Ed6UAchrMi84"
      },
      "outputs": [],
      "source": [
        "#Naive-Bayes classification"
      ]
    },
    {
      "cell_type": "code",
      "execution_count": null,
      "metadata": {
        "id": "0DlApH1DgIjz"
      },
      "outputs": [],
      "source": [
        "# instantiate the Naive Bayes Model\n",
        "mnb = MultinomialNB()"
      ]
    },
    {
      "cell_type": "code",
      "execution_count": null,
      "metadata": {
        "colab": {
          "base_uri": "https://localhost:8080/"
        },
        "id": "m9E2qvkKgqre",
        "outputId": "03dd384c-21b3-447e-e484-93af985ef7c7"
      },
      "outputs": [
        {
          "data": {
            "text/plain": [
              "MultinomialNB()"
            ]
          },
          "execution_count": 90,
          "metadata": {},
          "output_type": "execute_result"
        }
      ],
      "source": [
        "mnb.fit(X_train, Y_train)"
      ]
    },
    {
      "cell_type": "code",
      "execution_count": null,
      "metadata": {
        "id": "bvIHD2TOgzbO"
      },
      "outputs": [],
      "source": [
        "Y_pred = mnb.predict(X_test)"
      ]
    },
    {
      "cell_type": "code",
      "execution_count": null,
      "metadata": {
        "colab": {
          "base_uri": "https://localhost:8080/"
        },
        "id": "0mXzqI6BhBD7",
        "outputId": "5a7b9a4e-91c6-43a6-c1db-b8609d62c8d1"
      },
      "outputs": [
        {
          "name": "stdout",
          "output_type": "stream",
          "text": [
            "Model accuracy score: 0.8797\n"
          ]
        }
      ],
      "source": [
        "#Check Accuracy score Using Naive Bayes \n",
        "print('Model accuracy score: {0:0.4f}'. format(accuracy_score(Y_test, Y_pred)))"
      ]
    },
    {
      "cell_type": "code",
      "execution_count": null,
      "metadata": {
        "colab": {
          "base_uri": "https://localhost:8080/"
        },
        "id": "lscQJVM8hs4k",
        "outputId": "59906fa0-1c11-4c85-cf83-33a8a5bcc21d"
      },
      "outputs": [
        {
          "name": "stdout",
          "output_type": "stream",
          "text": [
            "Accuracy of Naive Bayes Classifier: 87.97%\n"
          ]
        }
      ],
      "source": [
        "#Check Accuracy score Using Naive Bayes\n",
        "model_nb = mnb.fit(X_train, Y_train)\n",
        "nb_pred = model_nb.predict(X_test)\n",
        "\n",
        "print(\"Accuracy of Naive Bayes Classifier: {}%\".format(round(accuracy_score(Y_test, nb_pred)*100,2)))\n",
        "\n",
        "#Here, Y_test are the true class labels and nb_pred are the predicted class labels in the test-set."
      ]
    },
    {
      "cell_type": "code",
      "execution_count": null,
      "metadata": {
        "id": "U5l4BpIuj8wT"
      },
      "outputs": [],
      "source": [
        "#Compare the train-set and test-set accuracy\n",
        "Y_pred_train = mnb.predict(X_train)"
      ]
    },
    {
      "cell_type": "code",
      "execution_count": null,
      "metadata": {
        "colab": {
          "base_uri": "https://localhost:8080/"
        },
        "id": "5MR6OBeOLz44",
        "outputId": "df621d55-b6ce-4f7c-b698-59b07d4b71b8"
      },
      "outputs": [
        {
          "name": "stdout",
          "output_type": "stream",
          "text": [
            "Training-set accuracy score: 0.8958\n"
          ]
        }
      ],
      "source": [
        "print('Training-set accuracy score: {0:0.4f}'. format(accuracy_score(Y_train, Y_pred_train)))"
      ]
    },
    {
      "cell_type": "code",
      "execution_count": null,
      "metadata": {
        "colab": {
          "base_uri": "https://localhost:8080/"
        },
        "id": "UpqO0P8hkWFm",
        "outputId": "d4e6d1be-2c68-4fc0-cf63-700ac316f8ef"
      },
      "outputs": [
        {
          "name": "stdout",
          "output_type": "stream",
          "text": [
            "Training set score: 0.8958\n",
            "Test set score: 0.8797\n"
          ]
        }
      ],
      "source": [
        "# Compare the scores on training and test set\n",
        "\n",
        "print('Training set score: {:.4f}'.format(mnb.score(X_train, Y_train)))\n",
        "\n",
        "print('Test set score: {:.4f}'.format(mnb.score(X_test, Y_test)))"
      ]
    },
    {
      "cell_type": "code",
      "execution_count": null,
      "metadata": {
        "id": "ETPpHb8dMwKO"
      },
      "outputs": [],
      "source": [
        "#The training-set accuracy score is 0.8958 \n",
        "#while the test-set accuracy to be 0.8797. \n",
        "#These two values are quite comparable. So, there is no sign of overfitting."
      ]
    },
    {
      "cell_type": "code",
      "execution_count": null,
      "metadata": {
        "colab": {
          "base_uri": "https://localhost:8080/"
        },
        "id": "6ADwxurLMJAf",
        "outputId": "01df85a2-435d-42f5-f370-9138caca155a"
      },
      "outputs": [
        {
          "name": "stdout",
          "output_type": "stream",
          "text": [
            "\n",
            "Confusion Matrix of Naive Bayes Classifier:\n",
            "\n",
            "[[6076  930]\n",
            " [ 805 6616]]\n",
            "\n",
            "True Positives(TP) =  6216\n",
            "\n",
            "True Negatives(TN) =  6777\n",
            "\n",
            "False Positives(FP) =  790\n",
            "\n",
            "False Negatives(FN) =  644\n"
          ]
        }
      ],
      "source": [
        "#Confusion Matrix\n",
        "print(\"\\nConfusion Matrix of Naive Bayes Classifier:\\n\")\n",
        "print(confusion_matrix(Y_test, nb_pred))\n",
        "print('\\nTrue Positives(TP) = ', cm[0,0])\n",
        "\n",
        "print('\\nTrue Negatives(TN) = ', cm[1,1])\n",
        "\n",
        "print('\\nFalse Positives(FP) = ', cm[0,1])\n",
        "\n",
        "print('\\nFalse Negatives(FN) = ', cm[1,0])"
      ]
    },
    {
      "cell_type": "code",
      "execution_count": null,
      "metadata": {
        "colab": {
          "base_uri": "https://localhost:8080/",
          "height": 285
        },
        "id": "lP3V9BN4Np03",
        "outputId": "ad473c23-66a6-4149-e9cf-ed9f4d3dfdf9"
      },
      "outputs": [
        {
          "data": {
            "text/plain": [
              "<matplotlib.axes._subplots.AxesSubplot at 0x7fcb00c835d0>"
            ]
          },
          "execution_count": 102,
          "metadata": {},
          "output_type": "execute_result"
        },
        {
          "data": {
            "image/png": "[encoded data removed]",
            "text/plain": [
              "<Figure size 432x288 with 2 Axes>"
            ]
          },
          "metadata": {},
          "output_type": "display_data"
        }
      ],
      "source": [
        "# visualize confusion matrix with seaborn heatmap\n",
        "\n",
        "cm_matrix = pd.DataFrame(data=cm, columns=['Actual Positive:1', 'Actual Negative:0'], \n",
        "                                 index=['Predict Positive:1', 'Predict Negative:0'])\n",
        "\n",
        "sns.heatmap(cm_matrix, annot=True, fmt='d', cmap='YlGnBu')"
      ]
    },
    {
      "cell_type": "code",
      "execution_count": null,
      "metadata": {
        "colab": {
          "base_uri": "https://localhost:8080/"
        },
        "id": "IfhMW4_qN5Y_",
        "outputId": "994a86bd-8c4a-4a34-df61-1b2aae2172a9"
      },
      "outputs": [
        {
          "name": "stdout",
          "output_type": "stream",
          "text": [
            "\n",
            "Classification Report of Naive Bayes Classifier:\n",
            "\n",
            "              precision    recall  f1-score   support\n",
            "\n",
            "           0       0.88      0.87      0.88      7006\n",
            "           1       0.88      0.89      0.88      7421\n",
            "\n",
            "    accuracy                           0.88     14427\n",
            "   macro avg       0.88      0.88      0.88     14427\n",
            "weighted avg       0.88      0.88      0.88     14427\n",
            "\n"
          ]
        }
      ],
      "source": [
        "#Classification Report\n",
        "print(\"\\nClassification Report of Naive Bayes Classifier:\\n\")\n",
        "print(classification_report(Y_test, nb_pred))"
      ]
    },
    {
      "cell_type": "code",
      "execution_count": null,
      "metadata": {
        "colab": {
          "base_uri": "https://localhost:8080/"
        },
        "id": "xDriDQhvOFvx",
        "outputId": "eaeda600-5b5d-4d28-ceda-e4f3a3d175ad"
      },
      "outputs": [
        {
          "name": "stdout",
          "output_type": "stream",
          "text": [
            "Classification accuracy : 0.9006\n",
            "Classification error : 0.0994\n",
            "Precision : 0.8872\n",
            "Recall or Sensitivity : 0.9061\n",
            "True Positive Rate : 0.9061\n",
            "False Positive Rate : 0.1044\n",
            "Specificity : 0.8956\n"
          ]
        }
      ],
      "source": [
        "TP = cm[0,0]\n",
        "TN = cm[1,1]\n",
        "FP = cm[0,1]\n",
        "FN = cm[1,0]\n",
        "\n",
        "# print classification accuracy\n",
        "classification_accuracy = (TP + TN) / float(TP + TN + FP + FN)\n",
        "print('Classification accuracy : {0:0.4f}'.format(classification_accuracy))\n",
        "\n",
        "# print classification error\n",
        "classification_error = (FP + FN) / float(TP + TN + FP + FN)\n",
        "print('Classification error : {0:0.4f}'.format(classification_error))\n",
        "\n",
        "# print precision score\n",
        "precision = TP / float(TP + FP)\n",
        "print('Precision : {0:0.4f}'.format(precision))\n",
        "\n",
        "#Recall\n",
        "recall = TP / float(TP + FN)\n",
        "print('Recall or Sensitivity : {0:0.4f}'.format(recall))\n",
        "\n",
        "#True_Positive_Rate\n",
        "true_positive_rate = TP / float(TP + FN)\n",
        "print('True Positive Rate : {0:0.4f}'.format(true_positive_rate))\n",
        "\n",
        "#False_Positive_Rate\n",
        "false_positive_rate = FP / float(FP + TN)\n",
        "print('False Positive Rate : {0:0.4f}'.format(false_positive_rate))\n",
        "\n",
        "#Specificity\n",
        "specificity = TN / (TN + FP)\n",
        "print('Specificity : {0:0.4f}'.format(specificity))"
      ]
    },
    {
      "cell_type": "code",
      "execution_count": null,
      "metadata": {
        "colab": {
          "base_uri": "https://localhost:8080/",
          "height": 302
        },
        "id": "02MXcEe4PGZC",
        "outputId": "40ea1969-143a-45bf-8c8c-2cc344956d9a"
      },
      "outputs": [
        {
          "data": {
            "image/png": "[encoded data removed]",
            "text/plain": [
              "<Figure size 432x288 with 1 Axes>"
            ]
          },
          "metadata": {},
          "output_type": "display_data"
        }
      ],
      "source": [
        "# plot ROC Curve\n",
        "\n",
        "from sklearn.metrics import roc_curve\n",
        "y_pred1 = mnb.predict_proba(X_test)[:, 1]\n",
        "fpr, tpr, thresholds = roc_curve(Y_test, y_pred1)\n",
        "\n",
        "plt.figure(figsize=(6,4))\n",
        "\n",
        "plt.plot(fpr, tpr, linewidth=2)\n",
        "\n",
        "plt.plot([0,1], [0,1], 'k--' )\n",
        "\n",
        "plt.rcParams['font.size'] = 12\n",
        "\n",
        "plt.title('ROC curve for Naive Bayes Classifier ')\n",
        "\n",
        "plt.xlabel('False Positive Rate (1 - Specificity)')\n",
        "\n",
        "plt.ylabel('True Positive Rate (Sensitivity)')\n",
        "\n",
        "plt.show()"
      ]
    },
    {
      "cell_type": "code",
      "execution_count": null,
      "metadata": {
        "colab": {
          "base_uri": "https://localhost:8080/",
          "height": 319
        },
        "id": "UDEvxjgwPn0a",
        "outputId": "f41ca3d7-9e71-415f-8698-76d3460af587"
      },
      "outputs": [
        {
          "data": {
            "text/plain": [
              "Text(0, 0.5, 'Frequency')"
            ]
          },
          "execution_count": 106,
          "metadata": {},
          "output_type": "execute_result"
        },
        {
          "data": {
            "image/png": "[encoded data removed]",
            "text/plain": [
              "<Figure size 432x288 with 1 Axes>"
            ]
          },
          "metadata": {},
          "output_type": "display_data"
        }
      ],
      "source": [
        "# plot histogram of predicted probabilities\n",
        "# adjust the font size \n",
        "plt.rcParams['font.size'] = 12\n",
        "# plot histogram with 10 bins\n",
        "plt.hist(y_pred1, bins = 10)\n",
        "# set the title of predicted probabilities\n",
        "plt.title('Histogram of predicted probabilities of ')\n",
        "# set the x-axis limit\n",
        "plt.xlim(0,1)\n",
        "# set the title\n",
        "plt.xlabel('Predicted probabilities of ')\n",
        "plt.ylabel('Frequency')"
      ]
    },
    {
      "cell_type": "code",
      "execution_count": null,
      "metadata": {
        "colab": {
          "base_uri": "https://localhost:8080/"
        },
        "id": "jDebjbMDQ5yO",
        "outputId": "ba149715-a03b-4871-83fb-141c3cc8521d"
      },
      "outputs": [
        {
          "name": "stdout",
          "output_type": "stream",
          "text": [
            "ROC AUC : 0.8794\n"
          ]
        }
      ],
      "source": [
        "# compute ROC AUC\n",
        "\n",
        "from sklearn.metrics import roc_auc_score\n",
        "ROC_AUC = roc_auc_score(Y_test, nb_pred)\n",
        "print('ROC AUC : {:.4f}'.format(ROC_AUC))"
      ]
    },
    {
      "cell_type": "code",
      "execution_count": null,
      "metadata": {
        "colab": {
          "base_uri": "https://localhost:8080/"
        },
        "id": "7ds4plJSRMs5",
        "outputId": "9dceb430-1e39-437c-a1ac-8960ab4fa38f"
      },
      "outputs": [
        {
          "name": "stdout",
          "output_type": "stream",
          "text": [
            "Cross validated ROC AUC : 0.9425\n"
          ]
        }
      ],
      "source": [
        "# calculate cross-validated ROC AUC \n",
        "\n",
        "from sklearn.model_selection import cross_val_score\n",
        "Cross_validated_ROC_AUC = cross_val_score(mnb, X_train, Y_train, cv=5, scoring='roc_auc').mean()\n",
        "print('Cross validated ROC AUC : {:.4f}'.format(Cross_validated_ROC_AUC))"
      ]
    },
    {
      "cell_type": "code",
      "execution_count": null,
      "metadata": {
        "colab": {
          "base_uri": "https://localhost:8080/"
        },
        "id": "bUC27IUUQ0MS",
        "outputId": "fb724eb6-980f-4d2c-e645-e9a0cde24445"
      },
      "outputs": [
        {
          "name": "stdout",
          "output_type": "stream",
          "text": [
            "Cross-validation scores:[0.86709409 0.86882689 0.86830705 0.87298562 0.86865361 0.87801074\n",
            " 0.8714261  0.87729636 0.87712305 0.86863085]\n"
          ]
        }
      ],
      "source": [
        "#k-Fold Cross Validation \n",
        "\n",
        "# Applying 10-Fold Cross Validation\n",
        "from sklearn.model_selection import cross_val_score\n",
        "scores = cross_val_score(mnb, X_train, Y_train, cv = 10, scoring='accuracy')\n",
        "print('Cross-validation scores:{}'.format(scores))"
      ]
    },
    {
      "cell_type": "code",
      "execution_count": null,
      "metadata": {
        "colab": {
          "base_uri": "https://localhost:8080/"
        },
        "id": "wa-45vTRRcer",
        "outputId": "2962e530-9e28-47c1-fa9b-3069ec96c195"
      },
      "outputs": [
        {
          "name": "stdout",
          "output_type": "stream",
          "text": [
            "Average cross-validation score: 0.8718\n"
          ]
        }
      ],
      "source": [
        "# compute Average cross-validation score\n",
        "print('Average cross-validation score: {:.4f}'.format(scores.mean()))"
      ]
    },
    {
      "cell_type": "code",
      "execution_count": null,
      "metadata": {
        "colab": {
          "base_uri": "https://localhost:8080/"
        },
        "id": "zIHbvFAyKkdS",
        "outputId": "5d4ab452-8974-4ed7-f59f-f4b6072f5096"
      },
      "outputs": [
        {
          "name": "stdout",
          "output_type": "stream",
          "text": [
            "              precision    recall  f1-score   support\n",
            "\n",
            "           0       0.88      0.87      0.88      7006\n",
            "           1       0.88      0.89      0.88      7421\n",
            "\n",
            "    accuracy                           0.88     14427\n",
            "   macro avg       0.88      0.88      0.88     14427\n",
            "weighted avg       0.88      0.88      0.88     14427\n",
            "\n",
            "[[6076  930]\n",
            " [ 805 6616]]\n",
            "Accuracy :  87.97  %\n",
            "f1_score :  0.88\n"
          ]
        }
      ],
      "source": [
        "# Model evaluation\n",
        "\n",
        "print(classification_report(Y_test, nb_pred))\n",
        "print(confusion_matrix(Y_test, nb_pred))\n",
        "\n",
        "MNB_f1 = round(f1_score(Y_test, nb_pred, average='weighted'), 3)\n",
        "MNB_accuracy = round((accuracy_score(Y_test, nb_pred)*100),2)\n",
        "\n",
        "print(\"Accuracy : \" , MNB_accuracy , \" %\")\n",
        "print(\"f1_score : \" , MNB_f1)"
      ]
    },
    {
      "cell_type": "markdown",
      "metadata": {
        "id": "jSUkgCco-1zP"
      },
      "source": [
        "##4.Neural Network (LSTM)"
      ]
    },
    {
      "cell_type": "code",
      "execution_count": null,
      "metadata": {
        "id": "cu6KIX2hBUHl"
      },
      "outputs": [],
      "source": [
        "import pandas as pd\n",
        "import numpy as np\n",
        "import nltk, keras, string, re, html, math\n",
        "\n",
        "from nltk.tokenize import word_tokenize, sent_tokenize\n",
        "from nltk.corpus import stopwords, wordnet\n",
        "from nltk.stem import WordNetLemmatizer\n",
        "from sklearn.preprocessing import LabelEncoder\n",
        "from sklearn.feature_extraction.text import CountVectorizer\n",
        "from collections import Counter, defaultdict\n",
        "from sklearn.model_selection import train_test_split\n",
        "from keras.preprocessing.text import Tokenizer\n",
        "from keras.preprocessing.sequence import pad_sequences\n",
        "from sklearn.metrics import accuracy_score, classification_report"
      ]
    },
    {
      "cell_type": "code",
      "execution_count": null,
      "metadata": {
        "colab": {
          "base_uri": "https://localhost:8080/",
          "height": 458
        },
        "id": "qkjCZF8UBauC",
        "outputId": "0a166725-85c7-4156-a172-f4ba8f6e8615"
      },
      "outputs": [
        {
          "name": "stdout",
          "output_type": "stream",
          "text": [
            "Data shape -  (72134, 4) \n",
            "\n",
            "The number of null values -  Unnamed: 0 0\n",
            "The number of null values -  title 558\n",
            "The number of null values -  text 39\n",
            "The number of null values -  label 0\n"
          ]
        },
        {
          "data": {
            "text/html": [
              "\n",
              "  <div id=\"df-1ee5951c-15aa-43bb-8f47-d0f24da2dfe9\">\n",
              "    <div class=\"colab-df-container\">\n",
              "      <div>\n",
              "<style scoped>\n",
              "    .dataframe tbody tr th:only-of-type {\n",
              "        vertical-align: middle;\n",
              "    }\n",
              "\n",
              "    .dataframe tbody tr th {\n",
              "        vertical-align: top;\n",
              "    }\n",
              "\n",
              "    .dataframe thead th {\n",
              "        text-align: right;\n",
              "    }\n",
              "</style>\n",
              "<table border=\"1\" class=\"dataframe\">\n",
              "  <thead>\n",
              "    <tr style=\"text-align: right;\">\n",
              "      <th></th>\n",
              "      <th>Unnamed: 0</th>\n",
              "      <th>title</th>\n",
              "      <th>text</th>\n",
              "      <th>label</th>\n",
              "      <th>review</th>\n",
              "    </tr>\n",
              "  </thead>\n",
              "  <tbody>\n",
              "    <tr>\n",
              "      <th>0</th>\n",
              "      <td>0</td>\n",
              "      <td>LAW ENFORCEMENT ON HIGH ALERT Following Threat...</td>\n",
              "      <td>No comment is expected from Barack Obama Membe...</td>\n",
              "      <td>1</td>\n",
              "      <td>law enforcement on high alert following threat...</td>\n",
              "    </tr>\n",
              "    <tr>\n",
              "      <th>1</th>\n",
              "      <td>1</td>\n",
              "      <td>NaN</td>\n",
              "      <td>Did they post their votes for Hillary already?</td>\n",
              "      <td>1</td>\n",
              "      <td>NaN</td>\n",
              "    </tr>\n",
              "    <tr>\n",
              "      <th>2</th>\n",
              "      <td>2</td>\n",
              "      <td>UNBELIEVABLE! OBAMA’S ATTORNEY GENERAL SAYS MO...</td>\n",
              "      <td>Now, most of the demonstrators gathered last ...</td>\n",
              "      <td>1</td>\n",
              "      <td>unbelievable! obama’s attorney general says mo...</td>\n",
              "    </tr>\n",
              "    <tr>\n",
              "      <th>3</th>\n",
              "      <td>3</td>\n",
              "      <td>Bobby Jindal, raised Hindu, uses story of Chri...</td>\n",
              "      <td>A dozen politically active pastors came here f...</td>\n",
              "      <td>0</td>\n",
              "      <td>bobby jindal, raised hindu, uses story of chri...</td>\n",
              "    </tr>\n",
              "    <tr>\n",
              "      <th>4</th>\n",
              "      <td>4</td>\n",
              "      <td>SATAN 2: Russia unvelis an image of its terrif...</td>\n",
              "      <td>The RS-28 Sarmat missile, dubbed Satan 2, will...</td>\n",
              "      <td>1</td>\n",
              "      <td>satan 2: russia unvelis an image of its terrif...</td>\n",
              "    </tr>\n",
              "  </tbody>\n",
              "</table>\n",
              "</div>\n",
              "      <button class=\"colab-df-convert\" onclick=\"convertToInteractive('df-1ee5951c-15aa-43bb-8f47-d0f24da2dfe9')\"\n",
              "              title=\"Convert this dataframe to an interactive table.\"\n",
              "              style=\"display:none;\">\n",
              "        \n",
              "  <svg xmlns=\"http://www.w3.org/2000/svg\" height=\"24px\"viewBox=\"0 0 24 24\"\n",
              "       width=\"24px\">\n",
              "    <path d=\"M0 0h24v24H0V0z\" fill=\"none\"/>\n",
              "    <path d=\"M18.56 5.44l.94 2.06.94-2.06 2.06-.94-2.06-.94-.94-2.06-.94 2.06-2.06.94zm-11 1L8.5 8.5l.94-2.06 2.06-.94-2.06-.94L8.5 2.5l-.94 2.06-2.06.94zm10 10l.94 2.06.94-2.06 2.06-.94-2.06-.94-.94-2.06-.94 2.06-2.06.94z\"/><path d=\"M17.41 7.96l-1.37-1.37c-.4-.4-.92-.59-1.43-.59-.52 0-1.04.2-1.43.59L10.3 9.45l-7.72 7.72c-.78.78-.78 2.05 0 2.83L4 21.41c.39.39.9.59 1.41.59.51 0 1.02-.2 1.41-.59l7.78-7.78 2.81-2.81c.8-.78.8-2.07 0-2.86zM5.41 20L4 18.59l7.72-7.72 1.47 1.35L5.41 20z\"/>\n",
              "  </svg>\n",
              "      </button>\n",
              "      \n",
              "  <style>\n",
              "    .colab-df-container {\n",
              "      display:flex;\n",
              "      flex-wrap:wrap;\n",
              "      gap: 12px;\n",
              "    }\n",
              "\n",
              "    .colab-df-convert {\n",
              "      background-color: #E8F0FE;\n",
              "      border: none;\n",
              "      border-radius: 50%;\n",
              "      cursor: pointer;\n",
              "      display: none;\n",
              "      fill: #1967D2;\n",
              "      height: 32px;\n",
              "      padding: 0 0 0 0;\n",
              "      width: 32px;\n",
              "    }\n",
              "\n",
              "    .colab-df-convert:hover {\n",
              "      background-color: #E2EBFA;\n",
              "      box-shadow: 0px 1px 2px rgba(60, 64, 67, 0.3), 0px 1px 3px 1px rgba(60, 64, 67, 0.15);\n",
              "      fill: #174EA6;\n",
              "    }\n",
              "\n",
              "    [theme=dark] .colab-df-convert {\n",
              "      background-color: #3B4455;\n",
              "      fill: #D2E3FC;\n",
              "    }\n",
              "\n",
              "    [theme=dark] .colab-df-convert:hover {\n",
              "      background-color: #434B5C;\n",
              "      box-shadow: 0px 1px 3px 1px rgba(0, 0, 0, 0.15);\n",
              "      filter: drop-shadow(0px 1px 2px rgba(0, 0, 0, 0.3));\n",
              "      fill: #FFFFFF;\n",
              "    }\n",
              "  </style>\n",
              "\n",
              "      <script>\n",
              "        const buttonEl =\n",
              "          document.querySelector('#df-1ee5951c-15aa-43bb-8f47-d0f24da2dfe9 button.colab-df-convert');\n",
              "        buttonEl.style.display =\n",
              "          google.colab.kernel.accessAllowed ? 'block' : 'none';\n",
              "\n",
              "        async function convertToInteractive(key) {\n",
              "          const element = document.querySelector('#df-1ee5951c-15aa-43bb-8f47-d0f24da2dfe9');\n",
              "          const dataTable =\n",
              "            await google.colab.kernel.invokeFunction('convertToInteractive',\n",
              "                                                     [key], {});\n",
              "          if (!dataTable) return;\n",
              "\n",
              "          const docLinkHtml = 'Like what you see? Visit the ' +\n",
              "            '<a target=\"_blank\" href=https://colab.research.google.com/notebooks/data_table.ipynb>data table notebook</a>'\n",
              "            + ' to learn more about interactive tables.';\n",
              "          element.innerHTML = '';\n",
              "          dataTable['output_type'] = 'display_data';\n",
              "          await google.colab.output.renderOutput(dataTable, element);\n",
              "          const docLink = document.createElement('div');\n",
              "          docLink.innerHTML = docLinkHtml;\n",
              "          element.appendChild(docLink);\n",
              "        }\n",
              "      </script>\n",
              "    </div>\n",
              "  </div>\n",
              "  "
            ],
            "text/plain": [
              "   Unnamed: 0                                              title  \\\n",
              "0           0  LAW ENFORCEMENT ON HIGH ALERT Following Threat...   \n",
              "1           1                                                NaN   \n",
              "2           2  UNBELIEVABLE! OBAMA’S ATTORNEY GENERAL SAYS MO...   \n",
              "3           3  Bobby Jindal, raised Hindu, uses story of Chri...   \n",
              "4           4  SATAN 2: Russia unvelis an image of its terrif...   \n",
              "\n",
              "                                                text  label  \\\n",
              "0  No comment is expected from Barack Obama Membe...      1   \n",
              "1     Did they post their votes for Hillary already?      1   \n",
              "2   Now, most of the demonstrators gathered last ...      1   \n",
              "3  A dozen politically active pastors came here f...      0   \n",
              "4  The RS-28 Sarmat missile, dubbed Satan 2, will...      1   \n",
              "\n",
              "                                              review  \n",
              "0  law enforcement on high alert following threat...  \n",
              "1                                                NaN  \n",
              "2  unbelievable! obama’s attorney general says mo...  \n",
              "3  bobby jindal, raised hindu, uses story of chri...  \n",
              "4  satan 2: russia unvelis an image of its terrif...  "
            ]
          },
          "execution_count": 75,
          "metadata": {},
          "output_type": "execute_result"
        }
      ],
      "source": [
        "#Loads the IMDB dataset. We load it using pandas as dataframe\n",
        "data = pd.read_csv('/content/drive/MyDrive/WELFake_Dataset.csv') \n",
        "print(\"Data shape - \", data.shape, \"\\n\")                                  #prints the number of rows and columns\n",
        "\n",
        "for col in data.columns:\n",
        "    print(\"The number of null values - \", col, data[col].isnull().sum())   \n",
        "#prints the number of null values in each column\n",
        "\n",
        "data[\"review\"]= data[\"title\"].str.lower()     #converts every value in the column to lowercase\n",
        "data.head()"
      ]
    },
    {
      "cell_type": "code",
      "execution_count": null,
      "metadata": {
        "colab": {
          "base_uri": "https://localhost:8080/"
        },
        "id": "Cy0ok4ETDuXS",
        "outputId": "c4992a13-8c57-4df3-a790-7e52c7933d46"
      },
      "outputs": [
        {
          "name": "stdout",
          "output_type": "stream",
          "text": [
            "[nltk_data] Downloading package punkt to /root/nltk_data...\n",
            "[nltk_data]   Unzipping tokenizers/punkt.zip.\n",
            "[nltk_data] Downloading package wordnet to /root/nltk_data...\n",
            "[nltk_data]   Unzipping corpora/wordnet.zip.\n",
            "[nltk_data] Downloading package wordnet to /root/nltk_data...\n",
            "[nltk_data]   Package wordnet is already up-to-date!\n"
          ]
        },
        {
          "data": {
            "text/plain": [
              "True"
            ]
          },
          "execution_count": 76,
          "metadata": {},
          "output_type": "execute_result"
        }
      ],
      "source": [
        "import nltk\n",
        "nltk.download('punkt')\n",
        "nltk.download('wordnet')\n",
        "nltk.download('wordnet')"
      ]
    },
    {
      "cell_type": "code",
      "execution_count": null,
      "metadata": {
        "colab": {
          "base_uri": "https://localhost:8080/",
          "height": 441
        },
        "id": "brggD2k4Ch1r",
        "outputId": "69a34a64-3444-4dd2-af84-0081c9a46b6c"
      },
      "outputs": [
        {
          "data": {
            "text/html": [
              "\n",
              "  <div id=\"df-81dbb8a2-d619-4b75-9b5c-623c75c039ef\">\n",
              "    <div class=\"colab-df-container\">\n",
              "      <div>\n",
              "<style scoped>\n",
              "    .dataframe tbody tr th:only-of-type {\n",
              "        vertical-align: middle;\n",
              "    }\n",
              "\n",
              "    .dataframe tbody tr th {\n",
              "        vertical-align: top;\n",
              "    }\n",
              "\n",
              "    .dataframe thead th {\n",
              "        text-align: right;\n",
              "    }\n",
              "</style>\n",
              "<table border=\"1\" class=\"dataframe\">\n",
              "  <thead>\n",
              "    <tr style=\"text-align: right;\">\n",
              "      <th></th>\n",
              "      <th>Unnamed: 0</th>\n",
              "      <th>title</th>\n",
              "      <th>text</th>\n",
              "      <th>label</th>\n",
              "      <th>review</th>\n",
              "      <th>cleaned</th>\n",
              "      <th>tokens</th>\n",
              "    </tr>\n",
              "  </thead>\n",
              "  <tbody>\n",
              "    <tr>\n",
              "      <th>0</th>\n",
              "      <td>0</td>\n",
              "      <td>LAW ENFORCEMENT ON HIGH ALERT Following Threat...</td>\n",
              "      <td>No comment is expected from Barack Obama Membe...</td>\n",
              "      <td>1</td>\n",
              "      <td>law enforcement on high alert following threat...</td>\n",
              "      <td>law enforcement high alert following threat co...</td>\n",
              "      <td>[law, enforcement, high, alert, following, thr...</td>\n",
              "    </tr>\n",
              "    <tr>\n",
              "      <th>1</th>\n",
              "      <td>1</td>\n",
              "      <td>NaN</td>\n",
              "      <td>Did they post their votes for Hillary already?</td>\n",
              "      <td>1</td>\n",
              "      <td>NaN</td>\n",
              "      <td>nan</td>\n",
              "      <td>[nan]</td>\n",
              "    </tr>\n",
              "    <tr>\n",
              "      <th>2</th>\n",
              "      <td>2</td>\n",
              "      <td>UNBELIEVABLE! OBAMA’S ATTORNEY GENERAL SAYS MO...</td>\n",
              "      <td>Now, most of the demonstrators gathered last ...</td>\n",
              "      <td>1</td>\n",
              "      <td>unbelievable! obama’s attorney general says mo...</td>\n",
              "      <td>unbelievable obama attorney general say charlo...</td>\n",
              "      <td>[unbelievable, obama, attorney, general, say, ...</td>\n",
              "    </tr>\n",
              "    <tr>\n",
              "      <th>3</th>\n",
              "      <td>3</td>\n",
              "      <td>Bobby Jindal, raised Hindu, uses story of Chri...</td>\n",
              "      <td>A dozen politically active pastors came here f...</td>\n",
              "      <td>0</td>\n",
              "      <td>bobby jindal, raised hindu, uses story of chri...</td>\n",
              "      <td>bobby jindal raised hindu us story christian c...</td>\n",
              "      <td>[bobby, jindal, raised, hindu, us, story, chri...</td>\n",
              "    </tr>\n",
              "    <tr>\n",
              "      <th>4</th>\n",
              "      <td>4</td>\n",
              "      <td>SATAN 2: Russia unvelis an image of its terrif...</td>\n",
              "      <td>The RS-28 Sarmat missile, dubbed Satan 2, will...</td>\n",
              "      <td>1</td>\n",
              "      <td>satan 2: russia unvelis an image of its terrif...</td>\n",
              "      <td>satan 2 russia unvelis image terrifying new su...</td>\n",
              "      <td>[satan, 2, russia, unvelis, image, terrifying,...</td>\n",
              "    </tr>\n",
              "  </tbody>\n",
              "</table>\n",
              "</div>\n",
              "      <button class=\"colab-df-convert\" onclick=\"convertToInteractive('df-81dbb8a2-d619-4b75-9b5c-623c75c039ef')\"\n",
              "              title=\"Convert this dataframe to an interactive table.\"\n",
              "              style=\"display:none;\">\n",
              "        \n",
              "  <svg xmlns=\"http://www.w3.org/2000/svg\" height=\"24px\"viewBox=\"0 0 24 24\"\n",
              "       width=\"24px\">\n",
              "    <path d=\"M0 0h24v24H0V0z\" fill=\"none\"/>\n",
              "    <path d=\"M18.56 5.44l.94 2.06.94-2.06 2.06-.94-2.06-.94-.94-2.06-.94 2.06-2.06.94zm-11 1L8.5 8.5l.94-2.06 2.06-.94-2.06-.94L8.5 2.5l-.94 2.06-2.06.94zm10 10l.94 2.06.94-2.06 2.06-.94-2.06-.94-.94-2.06-.94 2.06-2.06.94z\"/><path d=\"M17.41 7.96l-1.37-1.37c-.4-.4-.92-.59-1.43-.59-.52 0-1.04.2-1.43.59L10.3 9.45l-7.72 7.72c-.78.78-.78 2.05 0 2.83L4 21.41c.39.39.9.59 1.41.59.51 0 1.02-.2 1.41-.59l7.78-7.78 2.81-2.81c.8-.78.8-2.07 0-2.86zM5.41 20L4 18.59l7.72-7.72 1.47 1.35L5.41 20z\"/>\n",
              "  </svg>\n",
              "      </button>\n",
              "      \n",
              "  <style>\n",
              "    .colab-df-container {\n",
              "      display:flex;\n",
              "      flex-wrap:wrap;\n",
              "      gap: 12px;\n",
              "    }\n",
              "\n",
              "    .colab-df-convert {\n",
              "      background-color: #E8F0FE;\n",
              "      border: none;\n",
              "      border-radius: 50%;\n",
              "      cursor: pointer;\n",
              "      display: none;\n",
              "      fill: #1967D2;\n",
              "      height: 32px;\n",
              "      padding: 0 0 0 0;\n",
              "      width: 32px;\n",
              "    }\n",
              "\n",
              "    .colab-df-convert:hover {\n",
              "      background-color: #E2EBFA;\n",
              "      box-shadow: 0px 1px 2px rgba(60, 64, 67, 0.3), 0px 1px 3px 1px rgba(60, 64, 67, 0.15);\n",
              "      fill: #174EA6;\n",
              "    }\n",
              "\n",
              "    [theme=dark] .colab-df-convert {\n",
              "      background-color: #3B4455;\n",
              "      fill: #D2E3FC;\n",
              "    }\n",
              "\n",
              "    [theme=dark] .colab-df-convert:hover {\n",
              "      background-color: #434B5C;\n",
              "      box-shadow: 0px 1px 3px 1px rgba(0, 0, 0, 0.15);\n",
              "      filter: drop-shadow(0px 1px 2px rgba(0, 0, 0, 0.3));\n",
              "      fill: #FFFFFF;\n",
              "    }\n",
              "  </style>\n",
              "\n",
              "      <script>\n",
              "        const buttonEl =\n",
              "          document.querySelector('#df-81dbb8a2-d619-4b75-9b5c-623c75c039ef button.colab-df-convert');\n",
              "        buttonEl.style.display =\n",
              "          google.colab.kernel.accessAllowed ? 'block' : 'none';\n",
              "\n",
              "        async function convertToInteractive(key) {\n",
              "          const element = document.querySelector('#df-81dbb8a2-d619-4b75-9b5c-623c75c039ef');\n",
              "          const dataTable =\n",
              "            await google.colab.kernel.invokeFunction('convertToInteractive',\n",
              "                                                     [key], {});\n",
              "          if (!dataTable) return;\n",
              "\n",
              "          const docLinkHtml = 'Like what you see? Visit the ' +\n",
              "            '<a target=\"_blank\" href=https://colab.research.google.com/notebooks/data_table.ipynb>data table notebook</a>'\n",
              "            + ' to learn more about interactive tables.';\n",
              "          element.innerHTML = '';\n",
              "          dataTable['output_type'] = 'display_data';\n",
              "          await google.colab.output.renderOutput(dataTable, element);\n",
              "          const docLink = document.createElement('div');\n",
              "          docLink.innerHTML = docLinkHtml;\n",
              "          element.appendChild(docLink);\n",
              "        }\n",
              "      </script>\n",
              "    </div>\n",
              "  </div>\n",
              "  "
            ],
            "text/plain": [
              "   Unnamed: 0                                              title  \\\n",
              "0           0  LAW ENFORCEMENT ON HIGH ALERT Following Threat...   \n",
              "1           1                                                NaN   \n",
              "2           2  UNBELIEVABLE! OBAMA’S ATTORNEY GENERAL SAYS MO...   \n",
              "3           3  Bobby Jindal, raised Hindu, uses story of Chri...   \n",
              "4           4  SATAN 2: Russia unvelis an image of its terrif...   \n",
              "\n",
              "                                                text  label  \\\n",
              "0  No comment is expected from Barack Obama Membe...      1   \n",
              "1     Did they post their votes for Hillary already?      1   \n",
              "2   Now, most of the demonstrators gathered last ...      1   \n",
              "3  A dozen politically active pastors came here f...      0   \n",
              "4  The RS-28 Sarmat missile, dubbed Satan 2, will...      1   \n",
              "\n",
              "                                              review  \\\n",
              "0  law enforcement on high alert following threat...   \n",
              "1                                                NaN   \n",
              "2  unbelievable! obama’s attorney general says mo...   \n",
              "3  bobby jindal, raised hindu, uses story of chri...   \n",
              "4  satan 2: russia unvelis an image of its terrif...   \n",
              "\n",
              "                                             cleaned  \\\n",
              "0  law enforcement high alert following threat co...   \n",
              "1                                                nan   \n",
              "2  unbelievable obama attorney general say charlo...   \n",
              "3  bobby jindal raised hindu us story christian c...   \n",
              "4  satan 2 russia unvelis image terrifying new su...   \n",
              "\n",
              "                                              tokens  \n",
              "0  [law, enforcement, high, alert, following, thr...  \n",
              "1                                              [nan]  \n",
              "2  [unbelievable, obama, attorney, general, say, ...  \n",
              "3  [bobby, jindal, raised, hindu, us, story, chri...  \n",
              "4  [satan, 2, russia, unvelis, image, terrifying,...  "
            ]
          },
          "execution_count": 77,
          "metadata": {},
          "output_type": "execute_result"
        }
      ],
      "source": [
        "def cleaning(data):\n",
        "    clean = re.sub('<.*?>', ' ', str(data))            \n",
        "#removes HTML tags\n",
        "    clean = re.sub('\\'.*?\\s',' ', clean)               \n",
        "#removes all hanging letters afer apostrophes (s in it's)\n",
        "    clean = re.sub(r'http\\S+',' ', clean)              \n",
        "#removes URLs\n",
        "    clean = re.sub('\\W+',' ', clean)                   \n",
        "#replacing the non alphanumeric characters\n",
        "    return html.unescape(clean)\n",
        "data['cleaned'] = data['review'].apply(cleaning)\n",
        "\n",
        "\n",
        "def tokenizing(data):\n",
        "    review = data['cleaned']                            \n",
        "#tokenizing is done\n",
        "    tokens = nltk.word_tokenize(review)\n",
        "    return tokens\n",
        "data['tokens'] = data.apply(tokenizing, axis=1)\n",
        "\n",
        "\n",
        "stop_words = set(stopwords.words('english'))\n",
        "def remove_stops(data):\n",
        "    my_list = data['tokens']\n",
        "    meaningful_words = [w for w in my_list if not w in stop_words]           #stopwords are removed from the tokenized data\n",
        "    return (meaningful_words)\n",
        "data['tokens'] = data.apply(remove_stops, axis=1)\n",
        "\n",
        "\n",
        "lemmatizer = WordNetLemmatizer()\n",
        "def lemmatizing(data):\n",
        "    my_list = data['tokens']\n",
        "    lemmatized_list = [lemmatizer.lemmatize(word) for word in my_list]    \n",
        "#lemmatizing is performed. It's more efficient than stemming.\n",
        "    return (lemmatized_list)\n",
        "data['tokens'] = data.apply(lemmatizing, axis=1)\n",
        "\n",
        "def rejoin_words(data):\n",
        "    my_list = data['tokens']\n",
        "    joined_words = ( \" \".join(my_list))                     \n",
        "#rejoins all stemmed words\n",
        "    return joined_words\n",
        "data['cleaned'] = data.apply(rejoin_words, axis=1)\n",
        "\n",
        "data.head()"
      ]
    },
    {
      "cell_type": "code",
      "execution_count": null,
      "metadata": {
        "colab": {
          "base_uri": "https://localhost:8080/"
        },
        "id": "P2jeKB5uEBHL",
        "outputId": "c163daf3-93aa-488a-9ff7-0dc5a8f88b2c"
      },
      "outputs": [
        {
          "name": "stdout",
          "output_type": "stream",
          "text": [
            "The number of sentences is -  73419\n",
            "\n",
            "The number of tokens is -  656398\n",
            "\n",
            "The average number of tokens per sentence is -  9\n"
          ]
        }
      ],
      "source": [
        "# Prints statistics of Data like avg length of sentence , proportion of data w.r.t class labels\n",
        "def sents(data):\n",
        "    clean = re.sub('<.*?>', ' ', str(data))            \n",
        "#removes HTML tags\n",
        "    clean = re.sub('\\'.*?\\s',' ', clean)               \n",
        "#removes all hanging letters afer apostrophes (s in it's)\n",
        "    clean = re.sub(r'http\\S+',' ', clean)              \n",
        "#removes URLs\n",
        "    clean = re.sub('[^a-zA-Z0-9\\.]+',' ', clean)       \n",
        "#removes all non-alphanumeric characters except periods.\n",
        "    tokens = nltk.sent_tokenize(clean)                 \n",
        "#sentence tokenizing is done\n",
        "    return tokens\n",
        "sents = data['review'].apply(sents)\n",
        "\n",
        "length_s = 0\n",
        "for i in range(data.shape[0]):\n",
        "    length_s+= len(sents[i])\n",
        "print(\"The number of sentences is - \", length_s)          \n",
        "#prints the number of sentences\n",
        "\n",
        "length_t = 0\n",
        "for i in range(data.shape[0]):\n",
        "    length_t+= len(data['tokens'][i])\n",
        "print(\"\\nThe number of tokens is - \", length_t)           \n",
        "#prints the number of tokens\n",
        "\n",
        "average_tokens = round(length_t/length_s)\n",
        "print(\"\\nThe average number of tokens per sentence is - \", average_tokens) \n",
        "#prints the average number of tokens per sentence"
      ]
    },
    {
      "cell_type": "code",
      "execution_count": null,
      "metadata": {
        "colab": {
          "base_uri": "https://localhost:8080/"
        },
        "id": "2WpvHu16IIm8",
        "outputId": "b0961c6f-4b74-4c4d-cd22-3f899dc7790a"
      },
      "outputs": [
        {
          "name": "stdout",
          "output_type": "stream",
          "text": [
            "0    1\n",
            "1    1\n",
            "2    1\n",
            "3    0\n",
            "4    1\n",
            "Name: encoded, dtype: int64\n",
            "\n",
            "The encoded classes are -  {0: 0, 1: 1}\n"
          ]
        }
      ],
      "source": [
        "# gets reviews column from df\n",
        "reviews = data['cleaned'].values\n",
        "\n",
        "# gets labels column from df\n",
        "labels = data['label'].values\n",
        "# Uses label encoder to encode labels. Convert to 0/1\n",
        "encoder = LabelEncoder()\n",
        "encoded_labels = encoder.fit_transform(labels)\n",
        "data['encoded']= encoded_labels\n",
        "print(data['encoded'].head())\n",
        "\n",
        "# prints(enc.classes_)\n",
        "encoder_mapping = dict(zip(encoder.classes_, encoder.transform(encoder.classes_)))\n",
        "print(\"\\nThe encoded classes are - \", encoder_mapping)\n",
        "\n",
        "labels = data['encoded']"
      ]
    },
    {
      "cell_type": "code",
      "execution_count": null,
      "metadata": {
        "id": "LMP52SdXIkP0"
      },
      "outputs": [],
      "source": [
        "# Splits the data into train and test (80% - 20%). \n",
        "# Uses stratify in train_test_split so that both train and test have similar ratio of positive and negative samples.\n",
        "train_sentences, test_sentences, train_labels, test_labels = train_test_split(reviews, labels, test_size=0.2, random_state=42, stratify=labels)"
      ]
    },
    {
      "cell_type": "code",
      "execution_count": null,
      "metadata": {
        "id": "6b5wsBA8IoQE"
      },
      "outputs": [],
      "source": [
        "# Uses Count vectorizer to get frequency of the words\n",
        "vectorizer = CountVectorizer(max_features = 3000)\n",
        "\n",
        "sents_encoded = vectorizer.fit_transform(train_sentences)         #encodes all training sentences\n",
        "counts = sents_encoded.sum(axis=0).A1\n",
        "vocab = list(vectorizer.get_feature_names())"
      ]
    },
    {
      "cell_type": "code",
      "execution_count": null,
      "metadata": {
        "id": "LT2_4UfiA9Aq"
      },
      "outputs": [],
      "source": [
        "# Hyperparameters of the model\n",
        "oov_tok = '<OOK>'\n",
        "embedding_dim = 100\n",
        "max_length = 150\n",
        "padding_type='post'\n",
        "trunc_type='post'\n",
        "\n",
        "# tokenizes sentences\n",
        "tokenizer = Tokenizer()\n",
        "tokenizer.fit_on_texts(train_sentences)\n",
        "\n",
        "# vocabulary size\n",
        "word_index = tokenizer.word_index\n",
        "vocab_size = len(tokenizer.word_index) + 1\n",
        "\n",
        "# converts train dataset to sequence and pads sequences\n",
        "train_sequences = tokenizer.texts_to_sequences(train_sentences)\n",
        "train_padded = pad_sequences(train_sequences, padding='post', maxlen=max_length)\n",
        "\n",
        "# converts Test dataset to sequence and pads sequences\n",
        "test_sequences = tokenizer.texts_to_sequences(test_sentences)\n",
        "test_padded = pad_sequences(test_sequences, padding='post', maxlen=max_length)"
      ]
    },
    {
      "cell_type": "code",
      "execution_count": null,
      "metadata": {
        "colab": {
          "base_uri": "https://localhost:8080/"
        },
        "id": "M18tEWaMIv28",
        "outputId": "da34ba16-6a4b-4a6e-f1ee-77e94a06a7a0"
      },
      "outputs": [
        {
          "name": "stdout",
          "output_type": "stream",
          "text": [
            "Model: \"sequential_2\"\n",
            "_________________________________________________________________\n",
            " Layer (type)                Output Shape              Param #   \n",
            "=================================================================\n",
            " embedding_2 (Embedding)     (None, 150, 100)          2526900   \n",
            "                                                                 \n",
            " bidirectional (Bidirectiona  (None, 128)              84480     \n",
            " l)                                                              \n",
            "                                                                 \n",
            " dense_2 (Dense)             (None, 24)                3096      \n",
            "                                                                 \n",
            " dense_3 (Dense)             (None, 1)                 25        \n",
            "                                                                 \n",
            "=================================================================\n",
            "Total params: 2,614,501\n",
            "Trainable params: 2,614,501\n",
            "Non-trainable params: 0\n",
            "_________________________________________________________________\n"
          ]
        }
      ],
      "source": [
        "# model initialization\n",
        "model = keras.Sequential([\n",
        "    keras.layers.Embedding(vocab_size, embedding_dim, input_length=max_length),\n",
        "    keras.layers.Bidirectional(keras.layers.LSTM(64)),\n",
        "    keras.layers.Dense(24, activation='relu'),\n",
        "    keras.layers.Dense(1, activation='sigmoid')\n",
        "])\n",
        "\n",
        "# compiles model\n",
        "model.compile(loss='binary_crossentropy',\n",
        "              optimizer='adam',\n",
        "              metrics=['accuracy'])\n",
        "\n",
        "# model summary\n",
        "model.summary()"
      ]
    },
    {
      "cell_type": "code",
      "execution_count": null,
      "metadata": {
        "colab": {
          "base_uri": "https://localhost:8080/"
        },
        "id": "RsLx6rqfIzH8",
        "outputId": "16b7b67a-6696-4468-e602-f740b5dceb6d"
      },
      "outputs": [
        {
          "name": "stdout",
          "output_type": "stream",
          "text": [
            "Epoch 1/5\n",
            "1623/1623 [==============================] - 296s 179ms/step - loss: 0.2634 - accuracy: 0.8851 - val_loss: 0.2246 - val_accuracy: 0.9087\n",
            "Epoch 2/5\n",
            "1623/1623 [==============================] - 285s 175ms/step - loss: 0.1418 - accuracy: 0.9452 - val_loss: 0.2164 - val_accuracy: 0.9130\n",
            "Epoch 3/5\n",
            "1623/1623 [==============================] - 287s 177ms/step - loss: 0.0877 - accuracy: 0.9666 - val_loss: 0.2588 - val_accuracy: 0.9037\n",
            "Epoch 4/5\n",
            "1623/1623 [==============================] - 286s 176ms/step - loss: 0.0542 - accuracy: 0.9799 - val_loss: 0.3188 - val_accuracy: 0.9045\n",
            "Epoch 5/5\n",
            "1623/1623 [==============================] - 288s 177ms/step - loss: 0.0355 - accuracy: 0.9873 - val_loss: 0.3926 - val_accuracy: 0.9063\n"
          ]
        }
      ],
      "source": [
        "#training the model\n",
        "num_epochs = 5\n",
        "history = model.fit(train_padded, train_labels, \n",
        "                    epochs=num_epochs, verbose=1, \n",
        "                    validation_split=0.1)"
      ]
    },
    {
      "cell_type": "code",
      "execution_count": null,
      "metadata": {
        "colab": {
          "base_uri": "https://localhost:8080/"
        },
        "id": "2B66u27yQ-AA",
        "outputId": "720bb9f6-995f-4929-d2ff-a1a2a94fb482"
      },
      "outputs": [
        {
          "name": "stdout",
          "output_type": "stream",
          "text": [
            "The probabilities are - \n",
            "[[9.9999237e-01]\n",
            " [5.7440996e-03]\n",
            " [4.7819995e-05]\n",
            " ...\n",
            " [9.8428690e-01]\n",
            " [7.0668888e-01]\n",
            " [2.4565935e-02]]\n",
            "\n",
            "The labels are - \n",
            "[[1]\n",
            " [0]\n",
            " [0]\n",
            " ...\n",
            " [1]\n",
            " [1]\n",
            " [0]]\n",
            "\n",
            "The accuracy of the model is  0.9055936785194427\n",
            "\n",
            "The accuracy and other metrics are \n",
            "\n",
            "              precision    recall  f1-score   support\n",
            "\n",
            "           0       0.91      0.90      0.90      7006\n",
            "           1       0.90      0.91      0.91      7421\n",
            "\n",
            "    accuracy                           0.91     14427\n",
            "   macro avg       0.91      0.91      0.91     14427\n",
            "weighted avg       0.91      0.91      0.91     14427\n",
            "\n"
          ]
        }
      ],
      "source": [
        "# Gets probabilities\n",
        "prediction = model.predict(test_padded)\n",
        "print(\"The probabilities are - \", prediction, sep='\\n')\n",
        "\n",
        "# Gets labels based on probability 1 if p>= 0.5 else 0\n",
        "for each in prediction:\n",
        "    if each[0] >=0.5:\n",
        "        each[0] = 1\n",
        "    else:\n",
        "        each[0] = 0\n",
        "prediction = prediction.astype('int32') \n",
        "print(\"\\nThe labels are - \", prediction, sep='\\n')\n",
        "\n",
        "# Calculates accuracy on Test data\n",
        "print(\"\\nThe accuracy of the model is \", accuracy_score(test_labels, prediction))\n",
        "print(\"\\nThe accuracy and other metrics are \\n\", classification_report(test_labels, prediction, labels=[0, 1]),sep='\\n')"
      ]
    }
  ],
  "metadata": {
    "colab": {
      "collapsed_sections": [
        "8cHaxBzhXBfk",
        "1bwchDVOXPzs",
        "VAviuppYUebx",
        "VWos-ekYLh3A"
      ],
      "name": "Code Classification.ipynb",
      "provenance": []
    },
    "kernelspec": {
      "display_name": "Python 3",
      "name": "python3"
    },
    "language_info": {
      "name": "python"
    }
  },
  "nbformat": 4,
  "nbformat_minor": 0
}